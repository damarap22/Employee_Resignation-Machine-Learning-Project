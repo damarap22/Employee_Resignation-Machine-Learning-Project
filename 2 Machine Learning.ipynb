{
 "cells": [
  {
   "cell_type": "code",
   "execution_count": 2,
   "metadata": {
    "execution": {
     "iopub.execute_input": "2020-11-09T05:40:42.655683Z",
     "iopub.status.busy": "2020-11-09T05:40:42.655683Z",
     "iopub.status.idle": "2020-11-09T05:40:42.659673Z",
     "shell.execute_reply": "2020-11-09T05:40:42.658708Z",
     "shell.execute_reply.started": "2020-11-09T05:40:42.655683Z"
    }
   },
   "outputs": [],
   "source": [
    "import pandas as pd"
   ]
  },
  {
   "cell_type": "code",
   "execution_count": 29,
   "metadata": {
    "execution": {
     "iopub.execute_input": "2020-11-09T06:14:13.401738Z",
     "iopub.status.busy": "2020-11-09T06:14:13.401738Z",
     "iopub.status.idle": "2020-11-09T06:14:13.421685Z",
     "shell.execute_reply": "2020-11-09T06:14:13.421685Z",
     "shell.execute_reply.started": "2020-11-09T06:14:13.401738Z"
    }
   },
   "outputs": [],
   "source": [
    "from sklearn.metrics import classification_report, confusion_matrix\n",
    "from sklearn.tree import DecisionTreeClassifier\n",
    "from xgboost import XGBClassifier\n",
    "from sklearn.linear_model import LogisticRegression\n",
    "from sklearn.model_selection import train_test_split, GridSearchCV\n",
    "from sklearn.pipeline import Pipeline\n",
    "from sklearn.preprocessing import StandardScaler, MinMaxScaler, RobustScaler, OneHotEncoder, LabelEncoder\n",
    "from sklearn.compose import ColumnTransformer"
   ]
  },
  {
   "cell_type": "code",
   "execution_count": 5,
   "metadata": {
    "execution": {
     "iopub.execute_input": "2020-11-09T05:42:48.537307Z",
     "iopub.status.busy": "2020-11-09T05:42:48.536308Z",
     "iopub.status.idle": "2020-11-09T05:42:48.549307Z",
     "shell.execute_reply": "2020-11-09T05:42:48.548295Z",
     "shell.execute_reply.started": "2020-11-09T05:42:48.537307Z"
    }
   },
   "outputs": [],
   "source": [
    "from sklearn import set_config\n",
    "set_config(print_changed_only=False)"
   ]
  },
  {
   "cell_type": "code",
   "execution_count": 98,
   "metadata": {
    "execution": {
     "iopub.execute_input": "2020-11-09T06:35:52.460707Z",
     "iopub.status.busy": "2020-11-09T06:35:52.460707Z",
     "iopub.status.idle": "2020-11-09T06:35:52.558265Z",
     "shell.execute_reply": "2020-11-09T06:35:52.557450Z",
     "shell.execute_reply.started": "2020-11-09T06:35:52.460707Z"
    }
   },
   "outputs": [],
   "source": [
    "data = pd.read_csv('cleanOS.csv')"
   ]
  },
  {
   "cell_type": "code",
   "execution_count": 144,
   "metadata": {
    "execution": {
     "iopub.execute_input": "2020-11-09T06:56:24.111658Z",
     "iopub.status.busy": "2020-11-09T06:56:24.111658Z",
     "iopub.status.idle": "2020-11-09T06:56:24.123658Z",
     "shell.execute_reply": "2020-11-09T06:56:24.123658Z",
     "shell.execute_reply.started": "2020-11-09T06:56:24.111658Z"
    }
   },
   "outputs": [],
   "source": [
    "data['resign'] = data.STATUS.map({\"ACTIVE\" : 0, 'TERMINATED' : 1})"
   ]
  },
  {
   "cell_type": "code",
   "execution_count": 145,
   "metadata": {
    "execution": {
     "iopub.execute_input": "2020-11-09T06:56:34.135561Z",
     "iopub.status.busy": "2020-11-09T06:56:34.134564Z",
     "iopub.status.idle": "2020-11-09T06:56:34.159534Z",
     "shell.execute_reply": "2020-11-09T06:56:34.158536Z",
     "shell.execute_reply.started": "2020-11-09T06:56:34.135561Z"
    }
   },
   "outputs": [],
   "source": [
    "x = data.drop(columns=['STATUS','resign'])\n",
    "y = data['resign']"
   ]
  },
  {
   "cell_type": "code",
   "execution_count": 146,
   "metadata": {
    "execution": {
     "iopub.execute_input": "2020-11-09T06:56:41.385433Z",
     "iopub.status.busy": "2020-11-09T06:56:41.385433Z",
     "iopub.status.idle": "2020-11-09T06:56:41.429000Z",
     "shell.execute_reply": "2020-11-09T06:56:41.429000Z",
     "shell.execute_reply.started": "2020-11-09T06:56:41.385433Z"
    }
   },
   "outputs": [],
   "source": [
    "xtrain,xtest,ytrain,ytest = train_test_split(x,y,train_size = 0.8, random_state = 42, stratify = y)"
   ]
  },
  {
   "cell_type": "code",
   "execution_count": 147,
   "metadata": {
    "execution": {
     "iopub.execute_input": "2020-11-09T06:56:41.429993Z",
     "iopub.status.busy": "2020-11-09T06:56:41.429993Z",
     "iopub.status.idle": "2020-11-09T06:56:41.445929Z",
     "shell.execute_reply": "2020-11-09T06:56:41.444958Z",
     "shell.execute_reply.started": "2020-11-09T06:56:41.429993Z"
    }
   },
   "outputs": [
    {
     "data": {
      "text/html": [
       "<div>\n",
       "<style scoped>\n",
       "    .dataframe tbody tr th:only-of-type {\n",
       "        vertical-align: middle;\n",
       "    }\n",
       "\n",
       "    .dataframe tbody tr th {\n",
       "        vertical-align: top;\n",
       "    }\n",
       "\n",
       "    .dataframe thead th {\n",
       "        text-align: right;\n",
       "    }\n",
       "</style>\n",
       "<table border=\"1\" class=\"dataframe\">\n",
       "  <thead>\n",
       "    <tr style=\"text-align: right;\">\n",
       "      <th></th>\n",
       "      <th>length_of_service</th>\n",
       "      <th>department_name</th>\n",
       "      <th>job_title</th>\n",
       "      <th>gender_full</th>\n",
       "      <th>BUSINESS_UNIT</th>\n",
       "    </tr>\n",
       "  </thead>\n",
       "  <tbody>\n",
       "    <tr>\n",
       "      <th>95245</th>\n",
       "      <td>5</td>\n",
       "      <td>Dairy</td>\n",
       "      <td>Dairy Person</td>\n",
       "      <td>Male</td>\n",
       "      <td>STORES</td>\n",
       "    </tr>\n",
       "    <tr>\n",
       "      <th>28301</th>\n",
       "      <td>5</td>\n",
       "      <td>Dairy</td>\n",
       "      <td>Dairy Person</td>\n",
       "      <td>Female</td>\n",
       "      <td>STORES</td>\n",
       "    </tr>\n",
       "    <tr>\n",
       "      <th>6214</th>\n",
       "      <td>23</td>\n",
       "      <td>Produce</td>\n",
       "      <td>Produce Clerk</td>\n",
       "      <td>Male</td>\n",
       "      <td>STORES</td>\n",
       "    </tr>\n",
       "    <tr>\n",
       "      <th>64228</th>\n",
       "      <td>13</td>\n",
       "      <td>Produce</td>\n",
       "      <td>Produce Clerk</td>\n",
       "      <td>Female</td>\n",
       "      <td>STORES</td>\n",
       "    </tr>\n",
       "    <tr>\n",
       "      <th>17580</th>\n",
       "      <td>10</td>\n",
       "      <td>Customer Service</td>\n",
       "      <td>Cashier</td>\n",
       "      <td>Female</td>\n",
       "      <td>STORES</td>\n",
       "    </tr>\n",
       "  </tbody>\n",
       "</table>\n",
       "</div>"
      ],
      "text/plain": [
       "       length_of_service   department_name      job_title gender_full  \\\n",
       "95245                  5             Dairy   Dairy Person        Male   \n",
       "28301                  5             Dairy   Dairy Person      Female   \n",
       "6214                  23           Produce  Produce Clerk        Male   \n",
       "64228                 13           Produce  Produce Clerk      Female   \n",
       "17580                 10  Customer Service        Cashier      Female   \n",
       "\n",
       "      BUSINESS_UNIT  \n",
       "95245        STORES  \n",
       "28301        STORES  \n",
       "6214         STORES  \n",
       "64228        STORES  \n",
       "17580        STORES  "
      ]
     },
     "execution_count": 147,
     "metadata": {},
     "output_type": "execute_result"
    }
   ],
   "source": [
    "xtrain.head()"
   ]
  },
  {
   "cell_type": "code",
   "execution_count": 148,
   "metadata": {
    "execution": {
     "iopub.execute_input": "2020-11-09T06:56:41.447916Z",
     "iopub.status.busy": "2020-11-09T06:56:41.447916Z",
     "iopub.status.idle": "2020-11-09T06:56:41.460911Z",
     "shell.execute_reply": "2020-11-09T06:56:41.460911Z",
     "shell.execute_reply.started": "2020-11-09T06:56:41.447916Z"
    }
   },
   "outputs": [],
   "source": [
    "cat_one = ['department_name','job_title','BUSINESS_UNIT','gender_full']\n",
    "rest = ['length_of_service']"
   ]
  },
  {
   "cell_type": "code",
   "execution_count": 149,
   "metadata": {
    "execution": {
     "iopub.execute_input": "2020-11-09T06:56:41.461908Z",
     "iopub.status.busy": "2020-11-09T06:56:41.461908Z",
     "iopub.status.idle": "2020-11-09T06:56:41.478875Z",
     "shell.execute_reply": "2020-11-09T06:56:41.476842Z",
     "shell.execute_reply.started": "2020-11-09T06:56:41.461908Z"
    }
   },
   "outputs": [],
   "source": [
    "one_pipe = Pipeline([('onehot', OneHotEncoder())])\n",
    "\n",
    "preprocessor = ColumnTransformer([\n",
    "    ('onehoten', one_pipe, cat_one),\n",
    "    ('defa', 'passthrough', rest)])"
   ]
  },
  {
   "cell_type": "markdown",
   "metadata": {},
   "source": [
    "# Logistic Regression"
   ]
  },
  {
   "cell_type": "code",
   "execution_count": 150,
   "metadata": {
    "execution": {
     "iopub.execute_input": "2020-11-09T06:56:41.479829Z",
     "iopub.status.busy": "2020-11-09T06:56:41.479829Z",
     "iopub.status.idle": "2020-11-09T06:56:41.491795Z",
     "shell.execute_reply": "2020-11-09T06:56:41.491795Z",
     "shell.execute_reply.started": "2020-11-09T06:56:41.479829Z"
    }
   },
   "outputs": [],
   "source": [
    "pipeLR = Pipeline([\n",
    "    (\"prep\", preprocessor),\n",
    "    (\"model\", LogisticRegression())\n",
    "])"
   ]
  },
  {
   "cell_type": "code",
   "execution_count": 151,
   "metadata": {
    "execution": {
     "iopub.execute_input": "2020-11-09T06:56:41.492842Z",
     "iopub.status.busy": "2020-11-09T06:56:41.492842Z",
     "iopub.status.idle": "2020-11-09T06:56:42.152409Z",
     "shell.execute_reply": "2020-11-09T06:56:42.151414Z",
     "shell.execute_reply.started": "2020-11-09T06:56:41.492842Z"
    }
   },
   "outputs": [
    {
     "name": "stderr",
     "output_type": "stream",
     "text": [
      "C:\\Users\\damar\\anaconda3\\lib\\site-packages\\sklearn\\linear_model\\_logistic.py:762: ConvergenceWarning: lbfgs failed to converge (status=1):\n",
      "STOP: TOTAL NO. of ITERATIONS REACHED LIMIT.\n",
      "\n",
      "Increase the number of iterations (max_iter) or scale the data as shown in:\n",
      "    https://scikit-learn.org/stable/modules/preprocessing.html\n",
      "Please also refer to the documentation for alternative solver options:\n",
      "    https://scikit-learn.org/stable/modules/linear_model.html#logistic-regression\n",
      "  n_iter_i = _check_optimize_result(\n"
     ]
    },
    {
     "data": {
      "text/plain": [
       "Pipeline(memory=None,\n",
       "         steps=[('prep',\n",
       "                 ColumnTransformer(n_jobs=None, remainder='drop',\n",
       "                                   sparse_threshold=0.3,\n",
       "                                   transformer_weights=None,\n",
       "                                   transformers=[('onehoten',\n",
       "                                                  Pipeline(memory=None,\n",
       "                                                           steps=[('onehot',\n",
       "                                                                   OneHotEncoder(categories='auto',\n",
       "                                                                                 drop=None,\n",
       "                                                                                 dtype=<class 'numpy.float64'>,\n",
       "                                                                                 handle_unknown='error',\n",
       "                                                                                 sparse=True))],\n",
       "                                                           verbose=False),\n",
       "                                                  ['department_name',\n",
       "                                                   'job_title', 'BUSINESS_UNIT',\n",
       "                                                   'gender_full']),\n",
       "                                                 ('defa', 'passthrough',\n",
       "                                                  ['length_of_service'])],\n",
       "                                   verbose=False)),\n",
       "                ('model',\n",
       "                 LogisticRegression(C=1.0, class_weight=None, dual=False,\n",
       "                                    fit_intercept=True, intercept_scaling=1,\n",
       "                                    l1_ratio=None, max_iter=100,\n",
       "                                    multi_class='auto', n_jobs=None,\n",
       "                                    penalty='l2', random_state=None,\n",
       "                                    solver='lbfgs', tol=0.0001, verbose=0,\n",
       "                                    warm_start=False))],\n",
       "         verbose=False)"
      ]
     },
     "execution_count": 151,
     "metadata": {},
     "output_type": "execute_result"
    }
   ],
   "source": [
    "pipeLR.fit(xtrain,ytrain)"
   ]
  },
  {
   "cell_type": "code",
   "execution_count": 152,
   "metadata": {
    "execution": {
     "iopub.execute_input": "2020-11-09T06:56:42.153408Z",
     "iopub.status.busy": "2020-11-09T06:56:42.153408Z",
     "iopub.status.idle": "2020-11-09T06:56:42.185321Z",
     "shell.execute_reply": "2020-11-09T06:56:42.183400Z",
     "shell.execute_reply.started": "2020-11-09T06:56:42.153408Z"
    }
   },
   "outputs": [],
   "source": [
    "ybaseLR = pipeLR.predict(xtest)"
   ]
  },
  {
   "cell_type": "code",
   "execution_count": 156,
   "metadata": {
    "execution": {
     "iopub.execute_input": "2020-11-09T06:56:58.248772Z",
     "iopub.status.busy": "2020-11-09T06:56:58.248772Z",
     "iopub.status.idle": "2020-11-09T06:56:58.263755Z",
     "shell.execute_reply": "2020-11-09T06:56:58.263755Z",
     "shell.execute_reply.started": "2020-11-09T06:56:58.248772Z"
    }
   },
   "outputs": [],
   "source": [
    "label = [0,1]"
   ]
  },
  {
   "cell_type": "code",
   "execution_count": 157,
   "metadata": {
    "execution": {
     "iopub.execute_input": "2020-11-09T06:56:58.265725Z",
     "iopub.status.busy": "2020-11-09T06:56:58.264744Z",
     "iopub.status.idle": "2020-11-09T06:56:58.295664Z",
     "shell.execute_reply": "2020-11-09T06:56:58.294668Z",
     "shell.execute_reply.started": "2020-11-09T06:56:58.264744Z"
    }
   },
   "outputs": [
    {
     "name": "stdout",
     "output_type": "stream",
     "text": [
      "              precision    recall  f1-score   support\n",
      "\n",
      "           0       0.67      0.63      0.65      9634\n",
      "           1       0.65      0.68      0.67      9634\n",
      "\n",
      "    accuracy                           0.66     19268\n",
      "   macro avg       0.66      0.66      0.66     19268\n",
      "weighted avg       0.66      0.66      0.66     19268\n",
      "\n"
     ]
    }
   ],
   "source": [
    "print(classification_report(ytest, ybaseLR))"
   ]
  },
  {
   "cell_type": "code",
   "execution_count": 158,
   "metadata": {
    "execution": {
     "iopub.execute_input": "2020-11-09T06:56:58.296656Z",
     "iopub.status.busy": "2020-11-09T06:56:58.296656Z",
     "iopub.status.idle": "2020-11-09T06:56:58.387630Z",
     "shell.execute_reply": "2020-11-09T06:56:58.387630Z",
     "shell.execute_reply.started": "2020-11-09T06:56:58.296656Z"
    }
   },
   "outputs": [
    {
     "data": {
      "text/html": [
       "<div>\n",
       "<style scoped>\n",
       "    .dataframe tbody tr th:only-of-type {\n",
       "        vertical-align: middle;\n",
       "    }\n",
       "\n",
       "    .dataframe tbody tr th {\n",
       "        vertical-align: top;\n",
       "    }\n",
       "\n",
       "    .dataframe thead th {\n",
       "        text-align: right;\n",
       "    }\n",
       "</style>\n",
       "<table border=\"1\" class=\"dataframe\">\n",
       "  <thead>\n",
       "    <tr style=\"text-align: right;\">\n",
       "      <th></th>\n",
       "      <th>0</th>\n",
       "      <th>1</th>\n",
       "    </tr>\n",
       "  </thead>\n",
       "  <tbody>\n",
       "    <tr>\n",
       "      <th>0</th>\n",
       "      <td>6055</td>\n",
       "      <td>3579</td>\n",
       "    </tr>\n",
       "    <tr>\n",
       "      <th>1</th>\n",
       "      <td>3046</td>\n",
       "      <td>6588</td>\n",
       "    </tr>\n",
       "  </tbody>\n",
       "</table>\n",
       "</div>"
      ],
      "text/plain": [
       "      0     1\n",
       "0  6055  3579\n",
       "1  3046  6588"
      ]
     },
     "execution_count": 158,
     "metadata": {},
     "output_type": "execute_result"
    }
   ],
   "source": [
    "pd.DataFrame(confusion_matrix(ytest,ybaseLR,labels=label),columns=label,index=label)"
   ]
  },
  {
   "cell_type": "code",
   "execution_count": 159,
   "metadata": {
    "execution": {
     "iopub.execute_input": "2020-11-09T06:56:58.388628Z",
     "iopub.status.busy": "2020-11-09T06:56:58.388628Z",
     "iopub.status.idle": "2020-11-09T06:56:58.404615Z",
     "shell.execute_reply": "2020-11-09T06:56:58.403617Z",
     "shell.execute_reply.started": "2020-11-09T06:56:58.388628Z"
    }
   },
   "outputs": [
    {
     "data": {
      "text/plain": [
       "{'memory': None,\n",
       " 'steps': [('prep',\n",
       "   ColumnTransformer(n_jobs=None, remainder='drop', sparse_threshold=0.3,\n",
       "                     transformer_weights=None,\n",
       "                     transformers=[('onehoten',\n",
       "                                    Pipeline(memory=None,\n",
       "                                             steps=[('onehot',\n",
       "                                                     OneHotEncoder(categories='auto',\n",
       "                                                                   drop=None,\n",
       "                                                                   dtype=<class 'numpy.float64'>,\n",
       "                                                                   handle_unknown='error',\n",
       "                                                                   sparse=True))],\n",
       "                                             verbose=False),\n",
       "                                    ['department_name', 'job_title',\n",
       "                                     'BUSINESS_UNIT', 'gender_full']),\n",
       "                                   ('defa', 'passthrough', ['length_of_service'])],\n",
       "                     verbose=False)),\n",
       "  ('model',\n",
       "   LogisticRegression(C=1.0, class_weight=None, dual=False, fit_intercept=True,\n",
       "                      intercept_scaling=1, l1_ratio=None, max_iter=100,\n",
       "                      multi_class='auto', n_jobs=None, penalty='l2',\n",
       "                      random_state=None, solver='lbfgs', tol=0.0001, verbose=0,\n",
       "                      warm_start=False))],\n",
       " 'verbose': False,\n",
       " 'prep': ColumnTransformer(n_jobs=None, remainder='drop', sparse_threshold=0.3,\n",
       "                   transformer_weights=None,\n",
       "                   transformers=[('onehoten',\n",
       "                                  Pipeline(memory=None,\n",
       "                                           steps=[('onehot',\n",
       "                                                   OneHotEncoder(categories='auto',\n",
       "                                                                 drop=None,\n",
       "                                                                 dtype=<class 'numpy.float64'>,\n",
       "                                                                 handle_unknown='error',\n",
       "                                                                 sparse=True))],\n",
       "                                           verbose=False),\n",
       "                                  ['department_name', 'job_title',\n",
       "                                   'BUSINESS_UNIT', 'gender_full']),\n",
       "                                 ('defa', 'passthrough', ['length_of_service'])],\n",
       "                   verbose=False),\n",
       " 'model': LogisticRegression(C=1.0, class_weight=None, dual=False, fit_intercept=True,\n",
       "                    intercept_scaling=1, l1_ratio=None, max_iter=100,\n",
       "                    multi_class='auto', n_jobs=None, penalty='l2',\n",
       "                    random_state=None, solver='lbfgs', tol=0.0001, verbose=0,\n",
       "                    warm_start=False),\n",
       " 'prep__n_jobs': None,\n",
       " 'prep__remainder': 'drop',\n",
       " 'prep__sparse_threshold': 0.3,\n",
       " 'prep__transformer_weights': None,\n",
       " 'prep__transformers': [('onehoten',\n",
       "   Pipeline(memory=None,\n",
       "            steps=[('onehot',\n",
       "                    OneHotEncoder(categories='auto', drop=None,\n",
       "                                  dtype=<class 'numpy.float64'>,\n",
       "                                  handle_unknown='error', sparse=True))],\n",
       "            verbose=False),\n",
       "   ['department_name', 'job_title', 'BUSINESS_UNIT', 'gender_full']),\n",
       "  ('defa', 'passthrough', ['length_of_service'])],\n",
       " 'prep__verbose': False,\n",
       " 'prep__onehoten': Pipeline(memory=None,\n",
       "          steps=[('onehot',\n",
       "                  OneHotEncoder(categories='auto', drop=None,\n",
       "                                dtype=<class 'numpy.float64'>,\n",
       "                                handle_unknown='error', sparse=True))],\n",
       "          verbose=False),\n",
       " 'prep__defa': 'passthrough',\n",
       " 'prep__onehoten__memory': None,\n",
       " 'prep__onehoten__steps': [('onehot',\n",
       "   OneHotEncoder(categories='auto', drop=None, dtype=<class 'numpy.float64'>,\n",
       "                 handle_unknown='error', sparse=True))],\n",
       " 'prep__onehoten__verbose': False,\n",
       " 'prep__onehoten__onehot': OneHotEncoder(categories='auto', drop=None, dtype=<class 'numpy.float64'>,\n",
       "               handle_unknown='error', sparse=True),\n",
       " 'prep__onehoten__onehot__categories': 'auto',\n",
       " 'prep__onehoten__onehot__drop': None,\n",
       " 'prep__onehoten__onehot__dtype': numpy.float64,\n",
       " 'prep__onehoten__onehot__handle_unknown': 'error',\n",
       " 'prep__onehoten__onehot__sparse': True,\n",
       " 'model__C': 1.0,\n",
       " 'model__class_weight': None,\n",
       " 'model__dual': False,\n",
       " 'model__fit_intercept': True,\n",
       " 'model__intercept_scaling': 1,\n",
       " 'model__l1_ratio': None,\n",
       " 'model__max_iter': 100,\n",
       " 'model__multi_class': 'auto',\n",
       " 'model__n_jobs': None,\n",
       " 'model__penalty': 'l2',\n",
       " 'model__random_state': None,\n",
       " 'model__solver': 'lbfgs',\n",
       " 'model__tol': 0.0001,\n",
       " 'model__verbose': 0,\n",
       " 'model__warm_start': False}"
      ]
     },
     "execution_count": 159,
     "metadata": {},
     "output_type": "execute_result"
    }
   ],
   "source": [
    "pipeLR.get_params()"
   ]
  },
  {
   "cell_type": "code",
   "execution_count": null,
   "metadata": {},
   "outputs": [],
   "source": [
    "LogisticRegression()"
   ]
  },
  {
   "cell_type": "code",
   "execution_count": 192,
   "metadata": {
    "execution": {
     "iopub.execute_input": "2020-11-09T07:05:16.947600Z",
     "iopub.status.busy": "2020-11-09T07:05:16.947600Z",
     "iopub.status.idle": "2020-11-09T07:05:16.951622Z",
     "shell.execute_reply": "2020-11-09T07:05:16.951622Z",
     "shell.execute_reply.started": "2020-11-09T07:05:16.947600Z"
    }
   },
   "outputs": [],
   "source": [
    "paramLR = {\n",
    "    'model__C': [1.0, 0.1,0.08],\n",
    "    'model__solver' : ['newton-cg', 'lbfgs', 'liblinear', 'sag', 'saga']\n",
    "    'model__penalty': ['l1', 'l2', 'elasticnet', 'none'],\n",
    "    'model__max_iter': [100, 600, 1000],\n",
    "}"
   ]
  },
  {
   "cell_type": "code",
   "execution_count": 193,
   "metadata": {
    "execution": {
     "iopub.execute_input": "2020-11-09T07:05:17.574746Z",
     "iopub.status.busy": "2020-11-09T07:05:17.574746Z",
     "iopub.status.idle": "2020-11-09T07:05:17.592697Z",
     "shell.execute_reply": "2020-11-09T07:05:17.591700Z",
     "shell.execute_reply.started": "2020-11-09T07:05:17.574746Z"
    }
   },
   "outputs": [],
   "source": [
    "gridLR = GridSearchCV(estimator=pipeLR, param_grid=paramLR, verbose=1, n_jobs=-1, cv=4,scoring='recall')"
   ]
  },
  {
   "cell_type": "code",
   "execution_count": 194,
   "metadata": {
    "execution": {
     "iopub.execute_input": "2020-11-09T07:05:18.049753Z",
     "iopub.status.busy": "2020-11-09T07:05:18.049753Z",
     "iopub.status.idle": "2020-11-09T07:19:46.538138Z",
     "shell.execute_reply": "2020-11-09T07:19:46.537151Z",
     "shell.execute_reply.started": "2020-11-09T07:05:18.049753Z"
    }
   },
   "outputs": [
    {
     "name": "stdout",
     "output_type": "stream",
     "text": [
      "Fitting 4 folds for each of 180 candidates, totalling 720 fits\n"
     ]
    },
    {
     "name": "stderr",
     "output_type": "stream",
     "text": [
      "[Parallel(n_jobs=-1)]: Using backend LokyBackend with 12 concurrent workers.\n",
      "[Parallel(n_jobs=-1)]: Done  26 tasks      | elapsed:   14.6s\n",
      "[Parallel(n_jobs=-1)]: Done 176 tasks      | elapsed:  3.6min\n",
      "[Parallel(n_jobs=-1)]: Done 426 tasks      | elapsed:  8.0min\n",
      "[Parallel(n_jobs=-1)]: Done 720 out of 720 | elapsed: 14.4min finished\n"
     ]
    },
    {
     "data": {
      "text/plain": [
       "GridSearchCV(cv=4, error_score=nan,\n",
       "             estimator=Pipeline(memory=None,\n",
       "                                steps=[('prep',\n",
       "                                        ColumnTransformer(n_jobs=None,\n",
       "                                                          remainder='drop',\n",
       "                                                          sparse_threshold=0.3,\n",
       "                                                          transformer_weights=None,\n",
       "                                                          transformers=[('onehoten',\n",
       "                                                                         Pipeline(memory=None,\n",
       "                                                                                  steps=[('onehot',\n",
       "                                                                                          OneHotEncoder(categories='auto',\n",
       "                                                                                                        drop=None,\n",
       "                                                                                                        dtype=<class 'numpy.float64'>,\n",
       "                                                                                                        handle_unknown='error',\n",
       "                                                                                                        sparse=True))],\n",
       "                                                                                  verb...\n",
       "                                                           tol=0.0001,\n",
       "                                                           verbose=0,\n",
       "                                                           warm_start=False))],\n",
       "                                verbose=False),\n",
       "             iid='deprecated', n_jobs=-1,\n",
       "             param_grid={'model__C': [1.0, 0.1, 0.08],\n",
       "                         'model__max_iter': [100, 600, 1000],\n",
       "                         'model__penalty': ['l1', 'l2', 'elasticnet', 'none'],\n",
       "                         'model__solver': ['newton-cg', 'lbfgs', 'liblinear',\n",
       "                                           'sag', 'saga']},\n",
       "             pre_dispatch='2*n_jobs', refit=True, return_train_score=False,\n",
       "             scoring='recall', verbose=1)"
      ]
     },
     "execution_count": 194,
     "metadata": {},
     "output_type": "execute_result"
    }
   ],
   "source": [
    "gridLR.fit(xtrain,ytrain)"
   ]
  },
  {
   "cell_type": "code",
   "execution_count": 195,
   "metadata": {
    "execution": {
     "iopub.execute_input": "2020-11-09T07:19:46.539101Z",
     "iopub.status.busy": "2020-11-09T07:19:46.539101Z",
     "iopub.status.idle": "2020-11-09T07:19:46.553097Z",
     "shell.execute_reply": "2020-11-09T07:19:46.553097Z",
     "shell.execute_reply.started": "2020-11-09T07:19:46.539101Z"
    }
   },
   "outputs": [
    {
     "data": {
      "text/plain": [
       "{'model__C': 1.0,\n",
       " 'model__max_iter': 100,\n",
       " 'model__penalty': 'l1',\n",
       " 'model__solver': 'liblinear'}"
      ]
     },
     "execution_count": 195,
     "metadata": {},
     "output_type": "execute_result"
    }
   ],
   "source": [
    "gridLR.best_params_"
   ]
  },
  {
   "cell_type": "code",
   "execution_count": 196,
   "metadata": {
    "execution": {
     "iopub.execute_input": "2020-11-09T07:19:46.555091Z",
     "iopub.status.busy": "2020-11-09T07:19:46.555091Z",
     "iopub.status.idle": "2020-11-09T07:19:46.569054Z",
     "shell.execute_reply": "2020-11-09T07:19:46.569054Z",
     "shell.execute_reply.started": "2020-11-09T07:19:46.555091Z"
    }
   },
   "outputs": [],
   "source": [
    "bestLR = gridLR.best_estimator_"
   ]
  },
  {
   "cell_type": "code",
   "execution_count": 197,
   "metadata": {
    "execution": {
     "iopub.execute_input": "2020-11-09T07:19:46.571015Z",
     "iopub.status.busy": "2020-11-09T07:19:46.570054Z",
     "iopub.status.idle": "2020-11-09T07:19:46.600968Z",
     "shell.execute_reply": "2020-11-09T07:19:46.600968Z",
     "shell.execute_reply.started": "2020-11-09T07:19:46.571015Z"
    }
   },
   "outputs": [],
   "source": [
    "ygridLR = bestLR.predict(xtest)"
   ]
  },
  {
   "cell_type": "code",
   "execution_count": 198,
   "metadata": {
    "execution": {
     "iopub.execute_input": "2020-11-09T07:19:46.601932Z",
     "iopub.status.busy": "2020-11-09T07:19:46.601932Z",
     "iopub.status.idle": "2020-11-09T07:19:46.632853Z",
     "shell.execute_reply": "2020-11-09T07:19:46.631856Z",
     "shell.execute_reply.started": "2020-11-09T07:19:46.601932Z"
    }
   },
   "outputs": [
    {
     "name": "stdout",
     "output_type": "stream",
     "text": [
      "              precision    recall  f1-score   support\n",
      "\n",
      "           0       0.66      0.62      0.64      9634\n",
      "           1       0.65      0.68      0.66      9634\n",
      "\n",
      "    accuracy                           0.65     19268\n",
      "   macro avg       0.65      0.65      0.65     19268\n",
      "weighted avg       0.65      0.65      0.65     19268\n",
      "\n"
     ]
    }
   ],
   "source": [
    "print(classification_report(ytest, ygridLR))"
   ]
  },
  {
   "cell_type": "code",
   "execution_count": 199,
   "metadata": {
    "execution": {
     "iopub.execute_input": "2020-11-09T07:19:46.635385Z",
     "iopub.status.busy": "2020-11-09T07:19:46.634445Z",
     "iopub.status.idle": "2020-11-09T07:19:46.758075Z",
     "shell.execute_reply": "2020-11-09T07:19:46.758075Z",
     "shell.execute_reply.started": "2020-11-09T07:19:46.635385Z"
    }
   },
   "outputs": [
    {
     "data": {
      "text/html": [
       "<div>\n",
       "<style scoped>\n",
       "    .dataframe tbody tr th:only-of-type {\n",
       "        vertical-align: middle;\n",
       "    }\n",
       "\n",
       "    .dataframe tbody tr th {\n",
       "        vertical-align: top;\n",
       "    }\n",
       "\n",
       "    .dataframe thead th {\n",
       "        text-align: right;\n",
       "    }\n",
       "</style>\n",
       "<table border=\"1\" class=\"dataframe\">\n",
       "  <thead>\n",
       "    <tr style=\"text-align: right;\">\n",
       "      <th></th>\n",
       "      <th>0</th>\n",
       "      <th>1</th>\n",
       "    </tr>\n",
       "  </thead>\n",
       "  <tbody>\n",
       "    <tr>\n",
       "      <th>0</th>\n",
       "      <td>6019</td>\n",
       "      <td>3615</td>\n",
       "    </tr>\n",
       "    <tr>\n",
       "      <th>1</th>\n",
       "      <td>3046</td>\n",
       "      <td>6588</td>\n",
       "    </tr>\n",
       "  </tbody>\n",
       "</table>\n",
       "</div>"
      ],
      "text/plain": [
       "      0     1\n",
       "0  6019  3615\n",
       "1  3046  6588"
      ]
     },
     "execution_count": 199,
     "metadata": {},
     "output_type": "execute_result"
    }
   ],
   "source": [
    "pd.DataFrame(confusion_matrix(ytest,ygridLR,labels=label),columns=label,index=label)"
   ]
  },
  {
   "cell_type": "markdown",
   "metadata": {},
   "source": [
    "# DECISION TREE"
   ]
  },
  {
   "cell_type": "code",
   "execution_count": 248,
   "metadata": {
    "execution": {
     "iopub.execute_input": "2020-11-09T07:30:01.020242Z",
     "iopub.status.busy": "2020-11-09T07:30:01.020242Z",
     "iopub.status.idle": "2020-11-09T07:30:01.035199Z",
     "shell.execute_reply": "2020-11-09T07:30:01.035199Z",
     "shell.execute_reply.started": "2020-11-09T07:30:01.020242Z"
    }
   },
   "outputs": [],
   "source": [
    "pipeDT = Pipeline([\n",
    "    (\"prep\", preprocessor),\n",
    "    (\"model\", DecisionTreeClassifier())\n",
    "])"
   ]
  },
  {
   "cell_type": "code",
   "execution_count": 204,
   "metadata": {
    "execution": {
     "iopub.execute_input": "2020-11-09T07:21:15.736987Z",
     "iopub.status.busy": "2020-11-09T07:21:15.736987Z",
     "iopub.status.idle": "2020-11-09T07:21:16.054934Z",
     "shell.execute_reply": "2020-11-09T07:21:16.054934Z",
     "shell.execute_reply.started": "2020-11-09T07:21:15.736987Z"
    }
   },
   "outputs": [
    {
     "data": {
      "text/plain": [
       "Pipeline(memory=None,\n",
       "         steps=[('prep',\n",
       "                 ColumnTransformer(n_jobs=None, remainder='drop',\n",
       "                                   sparse_threshold=0.3,\n",
       "                                   transformer_weights=None,\n",
       "                                   transformers=[('onehoten',\n",
       "                                                  Pipeline(memory=None,\n",
       "                                                           steps=[('onehot',\n",
       "                                                                   OneHotEncoder(categories='auto',\n",
       "                                                                                 drop=None,\n",
       "                                                                                 dtype=<class 'numpy.float64'>,\n",
       "                                                                                 handle_unknown='error',\n",
       "                                                                                 sparse=True))],\n",
       "                                                           verbose=False),\n",
       "                                                  ['department_name',\n",
       "                                                   'job_title', 'B...\n",
       "                                                  ['length_of_service'])],\n",
       "                                   verbose=False)),\n",
       "                ('model',\n",
       "                 DecisionTreeClassifier(ccp_alpha=0.0, class_weight=None,\n",
       "                                        criterion='gini', max_depth=None,\n",
       "                                        max_features=None, max_leaf_nodes=None,\n",
       "                                        min_impurity_decrease=0.0,\n",
       "                                        min_impurity_split=None,\n",
       "                                        min_samples_leaf=1, min_samples_split=2,\n",
       "                                        min_weight_fraction_leaf=0.0,\n",
       "                                        presort='deprecated', random_state=None,\n",
       "                                        splitter='best'))],\n",
       "         verbose=False)"
      ]
     },
     "execution_count": 204,
     "metadata": {},
     "output_type": "execute_result"
    }
   ],
   "source": [
    "pipeDT.fit(xtrain,ytrain)"
   ]
  },
  {
   "cell_type": "code",
   "execution_count": 205,
   "metadata": {
    "execution": {
     "iopub.execute_input": "2020-11-09T07:21:32.841339Z",
     "iopub.status.busy": "2020-11-09T07:21:32.841339Z",
     "iopub.status.idle": "2020-11-09T07:21:32.879240Z",
     "shell.execute_reply": "2020-11-09T07:21:32.878259Z",
     "shell.execute_reply.started": "2020-11-09T07:21:32.841339Z"
    }
   },
   "outputs": [],
   "source": [
    "ybaseDT = pipeDT.predict(xtest)"
   ]
  },
  {
   "cell_type": "code",
   "execution_count": 206,
   "metadata": {
    "execution": {
     "iopub.execute_input": "2020-11-09T07:21:42.997589Z",
     "iopub.status.busy": "2020-11-09T07:21:42.997589Z",
     "iopub.status.idle": "2020-11-09T07:21:43.037488Z",
     "shell.execute_reply": "2020-11-09T07:21:43.037488Z",
     "shell.execute_reply.started": "2020-11-09T07:21:42.997589Z"
    }
   },
   "outputs": [
    {
     "name": "stdout",
     "output_type": "stream",
     "text": [
      "              precision    recall  f1-score   support\n",
      "\n",
      "           0       0.85      0.90      0.88      9634\n",
      "           1       0.90      0.84      0.87      9634\n",
      "\n",
      "    accuracy                           0.87     19268\n",
      "   macro avg       0.87      0.87      0.87     19268\n",
      "weighted avg       0.87      0.87      0.87     19268\n",
      "\n"
     ]
    }
   ],
   "source": [
    "print(classification_report(ytest, ybaseDT))"
   ]
  },
  {
   "cell_type": "code",
   "execution_count": 208,
   "metadata": {
    "execution": {
     "iopub.execute_input": "2020-11-09T07:21:55.928062Z",
     "iopub.status.busy": "2020-11-09T07:21:55.928062Z",
     "iopub.status.idle": "2020-11-09T07:21:56.011060Z",
     "shell.execute_reply": "2020-11-09T07:21:56.011060Z",
     "shell.execute_reply.started": "2020-11-09T07:21:55.928062Z"
    }
   },
   "outputs": [
    {
     "data": {
      "text/html": [
       "<div>\n",
       "<style scoped>\n",
       "    .dataframe tbody tr th:only-of-type {\n",
       "        vertical-align: middle;\n",
       "    }\n",
       "\n",
       "    .dataframe tbody tr th {\n",
       "        vertical-align: top;\n",
       "    }\n",
       "\n",
       "    .dataframe thead th {\n",
       "        text-align: right;\n",
       "    }\n",
       "</style>\n",
       "<table border=\"1\" class=\"dataframe\">\n",
       "  <thead>\n",
       "    <tr style=\"text-align: right;\">\n",
       "      <th></th>\n",
       "      <th>0</th>\n",
       "      <th>1</th>\n",
       "    </tr>\n",
       "  </thead>\n",
       "  <tbody>\n",
       "    <tr>\n",
       "      <th>0</th>\n",
       "      <td>8686</td>\n",
       "      <td>948</td>\n",
       "    </tr>\n",
       "    <tr>\n",
       "      <th>1</th>\n",
       "      <td>1498</td>\n",
       "      <td>8136</td>\n",
       "    </tr>\n",
       "  </tbody>\n",
       "</table>\n",
       "</div>"
      ],
      "text/plain": [
       "      0     1\n",
       "0  8686   948\n",
       "1  1498  8136"
      ]
     },
     "execution_count": 208,
     "metadata": {},
     "output_type": "execute_result"
    }
   ],
   "source": [
    "pd.DataFrame(confusion_matrix(ytest,ybaseDT,labels=label),columns=label,index=label)"
   ]
  },
  {
   "cell_type": "code",
   "execution_count": 209,
   "metadata": {
    "execution": {
     "iopub.execute_input": "2020-11-09T07:22:11.578881Z",
     "iopub.status.busy": "2020-11-09T07:22:11.578881Z",
     "iopub.status.idle": "2020-11-09T07:22:11.598868Z",
     "shell.execute_reply": "2020-11-09T07:22:11.598868Z",
     "shell.execute_reply.started": "2020-11-09T07:22:11.578881Z"
    }
   },
   "outputs": [
    {
     "data": {
      "text/plain": [
       "{'memory': None,\n",
       " 'steps': [('prep',\n",
       "   ColumnTransformer(n_jobs=None, remainder='drop', sparse_threshold=0.3,\n",
       "                     transformer_weights=None,\n",
       "                     transformers=[('onehoten',\n",
       "                                    Pipeline(memory=None,\n",
       "                                             steps=[('onehot',\n",
       "                                                     OneHotEncoder(categories='auto',\n",
       "                                                                   drop=None,\n",
       "                                                                   dtype=<class 'numpy.float64'>,\n",
       "                                                                   handle_unknown='error',\n",
       "                                                                   sparse=True))],\n",
       "                                             verbose=False),\n",
       "                                    ['department_name', 'job_title',\n",
       "                                     'BUSINESS_UNIT', 'gender_full']),\n",
       "                                   ('defa', 'passthrough', ['length_of_service'])],\n",
       "                     verbose=False)),\n",
       "  ('model',\n",
       "   DecisionTreeClassifier(ccp_alpha=0.0, class_weight=None, criterion='gini',\n",
       "                          max_depth=None, max_features=None, max_leaf_nodes=None,\n",
       "                          min_impurity_decrease=0.0, min_impurity_split=None,\n",
       "                          min_samples_leaf=1, min_samples_split=2,\n",
       "                          min_weight_fraction_leaf=0.0, presort='deprecated',\n",
       "                          random_state=None, splitter='best'))],\n",
       " 'verbose': False,\n",
       " 'prep': ColumnTransformer(n_jobs=None, remainder='drop', sparse_threshold=0.3,\n",
       "                   transformer_weights=None,\n",
       "                   transformers=[('onehoten',\n",
       "                                  Pipeline(memory=None,\n",
       "                                           steps=[('onehot',\n",
       "                                                   OneHotEncoder(categories='auto',\n",
       "                                                                 drop=None,\n",
       "                                                                 dtype=<class 'numpy.float64'>,\n",
       "                                                                 handle_unknown='error',\n",
       "                                                                 sparse=True))],\n",
       "                                           verbose=False),\n",
       "                                  ['department_name', 'job_title',\n",
       "                                   'BUSINESS_UNIT', 'gender_full']),\n",
       "                                 ('defa', 'passthrough', ['length_of_service'])],\n",
       "                   verbose=False),\n",
       " 'model': DecisionTreeClassifier(ccp_alpha=0.0, class_weight=None, criterion='gini',\n",
       "                        max_depth=None, max_features=None, max_leaf_nodes=None,\n",
       "                        min_impurity_decrease=0.0, min_impurity_split=None,\n",
       "                        min_samples_leaf=1, min_samples_split=2,\n",
       "                        min_weight_fraction_leaf=0.0, presort='deprecated',\n",
       "                        random_state=None, splitter='best'),\n",
       " 'prep__n_jobs': None,\n",
       " 'prep__remainder': 'drop',\n",
       " 'prep__sparse_threshold': 0.3,\n",
       " 'prep__transformer_weights': None,\n",
       " 'prep__transformers': [('onehoten',\n",
       "   Pipeline(memory=None,\n",
       "            steps=[('onehot',\n",
       "                    OneHotEncoder(categories='auto', drop=None,\n",
       "                                  dtype=<class 'numpy.float64'>,\n",
       "                                  handle_unknown='error', sparse=True))],\n",
       "            verbose=False),\n",
       "   ['department_name', 'job_title', 'BUSINESS_UNIT', 'gender_full']),\n",
       "  ('defa', 'passthrough', ['length_of_service'])],\n",
       " 'prep__verbose': False,\n",
       " 'prep__onehoten': Pipeline(memory=None,\n",
       "          steps=[('onehot',\n",
       "                  OneHotEncoder(categories='auto', drop=None,\n",
       "                                dtype=<class 'numpy.float64'>,\n",
       "                                handle_unknown='error', sparse=True))],\n",
       "          verbose=False),\n",
       " 'prep__defa': 'passthrough',\n",
       " 'prep__onehoten__memory': None,\n",
       " 'prep__onehoten__steps': [('onehot',\n",
       "   OneHotEncoder(categories='auto', drop=None, dtype=<class 'numpy.float64'>,\n",
       "                 handle_unknown='error', sparse=True))],\n",
       " 'prep__onehoten__verbose': False,\n",
       " 'prep__onehoten__onehot': OneHotEncoder(categories='auto', drop=None, dtype=<class 'numpy.float64'>,\n",
       "               handle_unknown='error', sparse=True),\n",
       " 'prep__onehoten__onehot__categories': 'auto',\n",
       " 'prep__onehoten__onehot__drop': None,\n",
       " 'prep__onehoten__onehot__dtype': numpy.float64,\n",
       " 'prep__onehoten__onehot__handle_unknown': 'error',\n",
       " 'prep__onehoten__onehot__sparse': True,\n",
       " 'model__ccp_alpha': 0.0,\n",
       " 'model__class_weight': None,\n",
       " 'model__criterion': 'gini',\n",
       " 'model__max_depth': None,\n",
       " 'model__max_features': None,\n",
       " 'model__max_leaf_nodes': None,\n",
       " 'model__min_impurity_decrease': 0.0,\n",
       " 'model__min_impurity_split': None,\n",
       " 'model__min_samples_leaf': 1,\n",
       " 'model__min_samples_split': 2,\n",
       " 'model__min_weight_fraction_leaf': 0.0,\n",
       " 'model__presort': 'deprecated',\n",
       " 'model__random_state': None,\n",
       " 'model__splitter': 'best'}"
      ]
     },
     "execution_count": 209,
     "metadata": {},
     "output_type": "execute_result"
    }
   ],
   "source": [
    "pipeDT.get_params()"
   ]
  },
  {
   "cell_type": "code",
   "execution_count": 286,
   "metadata": {
    "execution": {
     "iopub.execute_input": "2020-11-09T07:42:20.137334Z",
     "iopub.status.busy": "2020-11-09T07:42:20.137334Z",
     "iopub.status.idle": "2020-11-09T07:42:20.149393Z",
     "shell.execute_reply": "2020-11-09T07:42:20.149393Z",
     "shell.execute_reply.started": "2020-11-09T07:42:20.137334Z"
    }
   },
   "outputs": [],
   "source": [
    "paramDT = {\n",
    "    'model__max_depth': [None,100,10],\n",
    "    'model__max_features': [None,100,10],\n",
    "    'model__min_samples_leaf': [1],\n",
    "    'model__min_samples_split': [2]\n",
    "}"
   ]
  },
  {
   "cell_type": "code",
   "execution_count": 287,
   "metadata": {
    "execution": {
     "iopub.execute_input": "2020-11-09T07:42:20.568439Z",
     "iopub.status.busy": "2020-11-09T07:42:20.567439Z",
     "iopub.status.idle": "2020-11-09T07:42:20.585409Z",
     "shell.execute_reply": "2020-11-09T07:42:20.585409Z",
     "shell.execute_reply.started": "2020-11-09T07:42:20.568439Z"
    }
   },
   "outputs": [],
   "source": [
    "gridDT = GridSearchCV(estimator=pipeDT, param_grid=paramDT, verbose=1, n_jobs=-1, cv=4,scoring='recall')"
   ]
  },
  {
   "cell_type": "code",
   "execution_count": 288,
   "metadata": {
    "execution": {
     "iopub.execute_input": "2020-11-09T07:42:21.042900Z",
     "iopub.status.busy": "2020-11-09T07:42:21.042900Z",
     "iopub.status.idle": "2020-11-09T07:42:23.968239Z",
     "shell.execute_reply": "2020-11-09T07:42:23.968239Z",
     "shell.execute_reply.started": "2020-11-09T07:42:21.042900Z"
    }
   },
   "outputs": [
    {
     "name": "stdout",
     "output_type": "stream",
     "text": [
      "Fitting 4 folds for each of 9 candidates, totalling 36 fits\n"
     ]
    },
    {
     "name": "stderr",
     "output_type": "stream",
     "text": [
      "[Parallel(n_jobs=-1)]: Using backend LokyBackend with 12 concurrent workers.\n",
      "[Parallel(n_jobs=-1)]: Done  36 out of  36 | elapsed:    2.6s finished\n"
     ]
    },
    {
     "data": {
      "text/plain": [
       "GridSearchCV(cv=4, error_score=nan,\n",
       "             estimator=Pipeline(memory=None,\n",
       "                                steps=[('prep',\n",
       "                                        ColumnTransformer(n_jobs=None,\n",
       "                                                          remainder='drop',\n",
       "                                                          sparse_threshold=0.3,\n",
       "                                                          transformer_weights=None,\n",
       "                                                          transformers=[('onehoten',\n",
       "                                                                         Pipeline(memory=None,\n",
       "                                                                                  steps=[('onehot',\n",
       "                                                                                          OneHotEncoder(categories='auto',\n",
       "                                                                                                        drop=None,\n",
       "                                                                                                        dtype=<class 'numpy.float64'>,\n",
       "                                                                                                        handle_unknown='error',\n",
       "                                                                                                        sparse=True))],\n",
       "                                                                                  verb...\n",
       "                                                               min_weight_fraction_leaf=0.0,\n",
       "                                                               presort='deprecated',\n",
       "                                                               random_state=None,\n",
       "                                                               splitter='best'))],\n",
       "                                verbose=False),\n",
       "             iid='deprecated', n_jobs=-1,\n",
       "             param_grid={'model__max_depth': [None, 100, 10],\n",
       "                         'model__max_features': [None, 100, 10],\n",
       "                         'model__min_samples_leaf': [1],\n",
       "                         'model__min_samples_split': [2]},\n",
       "             pre_dispatch='2*n_jobs', refit=True, return_train_score=False,\n",
       "             scoring='recall', verbose=1)"
      ]
     },
     "execution_count": 288,
     "metadata": {},
     "output_type": "execute_result"
    }
   ],
   "source": [
    "gridDT.fit(xtrain,ytrain)"
   ]
  },
  {
   "cell_type": "code",
   "execution_count": 289,
   "metadata": {
    "execution": {
     "iopub.execute_input": "2020-11-09T07:42:23.969230Z",
     "iopub.status.busy": "2020-11-09T07:42:23.969230Z",
     "iopub.status.idle": "2020-11-09T07:42:23.984202Z",
     "shell.execute_reply": "2020-11-09T07:42:23.984202Z",
     "shell.execute_reply.started": "2020-11-09T07:42:23.969230Z"
    }
   },
   "outputs": [
    {
     "data": {
      "text/plain": [
       "{'model__max_depth': 10,\n",
       " 'model__max_features': None,\n",
       " 'model__min_samples_leaf': 1,\n",
       " 'model__min_samples_split': 2}"
      ]
     },
     "execution_count": 289,
     "metadata": {},
     "output_type": "execute_result"
    }
   ],
   "source": [
    "gridDT.best_params_"
   ]
  },
  {
   "cell_type": "code",
   "execution_count": 290,
   "metadata": {
    "execution": {
     "iopub.execute_input": "2020-11-09T07:42:23.986152Z",
     "iopub.status.busy": "2020-11-09T07:42:23.986152Z",
     "iopub.status.idle": "2020-11-09T07:42:24.001138Z",
     "shell.execute_reply": "2020-11-09T07:42:24.000116Z",
     "shell.execute_reply.started": "2020-11-09T07:42:23.986152Z"
    }
   },
   "outputs": [],
   "source": [
    "bestDT = gridDT.best_estimator_"
   ]
  },
  {
   "cell_type": "code",
   "execution_count": 291,
   "metadata": {
    "execution": {
     "iopub.execute_input": "2020-11-09T07:42:24.003106Z",
     "iopub.status.busy": "2020-11-09T07:42:24.002144Z",
     "iopub.status.idle": "2020-11-09T07:42:24.032059Z",
     "shell.execute_reply": "2020-11-09T07:42:24.032059Z",
     "shell.execute_reply.started": "2020-11-09T07:42:24.003106Z"
    }
   },
   "outputs": [],
   "source": [
    "ygridDT = bestDT.predict(xtest)"
   ]
  },
  {
   "cell_type": "code",
   "execution_count": 292,
   "metadata": {
    "execution": {
     "iopub.execute_input": "2020-11-09T07:42:24.167360Z",
     "iopub.status.busy": "2020-11-09T07:42:24.167360Z",
     "iopub.status.idle": "2020-11-09T07:42:24.207300Z",
     "shell.execute_reply": "2020-11-09T07:42:24.206273Z",
     "shell.execute_reply.started": "2020-11-09T07:42:24.167360Z"
    }
   },
   "outputs": [
    {
     "name": "stdout",
     "output_type": "stream",
     "text": [
      "              precision    recall  f1-score   support\n",
      "\n",
      "           0       0.85      0.89      0.87      9634\n",
      "           1       0.89      0.85      0.87      9634\n",
      "\n",
      "    accuracy                           0.87     19268\n",
      "   macro avg       0.87      0.87      0.87     19268\n",
      "weighted avg       0.87      0.87      0.87     19268\n",
      "\n"
     ]
    }
   ],
   "source": [
    "print(classification_report(ytest, ygridDT))"
   ]
  },
  {
   "cell_type": "code",
   "execution_count": 285,
   "metadata": {
    "execution": {
     "iopub.execute_input": "2020-11-09T07:42:12.226265Z",
     "iopub.status.busy": "2020-11-09T07:42:12.225271Z",
     "iopub.status.idle": "2020-11-09T07:42:12.322999Z",
     "shell.execute_reply": "2020-11-09T07:42:12.322999Z",
     "shell.execute_reply.started": "2020-11-09T07:42:12.226265Z"
    }
   },
   "outputs": [
    {
     "data": {
      "text/html": [
       "<div>\n",
       "<style scoped>\n",
       "    .dataframe tbody tr th:only-of-type {\n",
       "        vertical-align: middle;\n",
       "    }\n",
       "\n",
       "    .dataframe tbody tr th {\n",
       "        vertical-align: top;\n",
       "    }\n",
       "\n",
       "    .dataframe thead th {\n",
       "        text-align: right;\n",
       "    }\n",
       "</style>\n",
       "<table border=\"1\" class=\"dataframe\">\n",
       "  <thead>\n",
       "    <tr style=\"text-align: right;\">\n",
       "      <th></th>\n",
       "      <th>0</th>\n",
       "      <th>1</th>\n",
       "    </tr>\n",
       "  </thead>\n",
       "  <tbody>\n",
       "    <tr>\n",
       "      <th>0</th>\n",
       "      <td>8591</td>\n",
       "      <td>1043</td>\n",
       "    </tr>\n",
       "    <tr>\n",
       "      <th>1</th>\n",
       "      <td>1460</td>\n",
       "      <td>8174</td>\n",
       "    </tr>\n",
       "  </tbody>\n",
       "</table>\n",
       "</div>"
      ],
      "text/plain": [
       "      0     1\n",
       "0  8591  1043\n",
       "1  1460  8174"
      ]
     },
     "execution_count": 285,
     "metadata": {},
     "output_type": "execute_result"
    }
   ],
   "source": [
    "pd.DataFrame(confusion_matrix(ytest,ygridDT,labels=label),columns=label,index=label)"
   ]
  },
  {
   "cell_type": "markdown",
   "metadata": {},
   "source": [
    "# XGBoost"
   ]
  },
  {
   "cell_type": "code",
   "execution_count": 247,
   "metadata": {
    "execution": {
     "iopub.execute_input": "2020-11-09T07:29:53.557596Z",
     "iopub.status.busy": "2020-11-09T07:29:53.557596Z",
     "iopub.status.idle": "2020-11-09T07:29:53.572503Z",
     "shell.execute_reply": "2020-11-09T07:29:53.571540Z",
     "shell.execute_reply.started": "2020-11-09T07:29:53.557596Z"
    }
   },
   "outputs": [],
   "source": [
    "pipeXG = Pipeline([\n",
    "    (\"prep\", preprocessor),\n",
    "    (\"model\", XGBClassifier())\n",
    "])"
   ]
  },
  {
   "cell_type": "code",
   "execution_count": 249,
   "metadata": {
    "execution": {
     "iopub.execute_input": "2020-11-09T07:30:10.862607Z",
     "iopub.status.busy": "2020-11-09T07:30:10.862607Z",
     "iopub.status.idle": "2020-11-09T07:30:13.225190Z",
     "shell.execute_reply": "2020-11-09T07:30:13.224229Z",
     "shell.execute_reply.started": "2020-11-09T07:30:10.862607Z"
    }
   },
   "outputs": [
    {
     "data": {
      "text/plain": [
       "Pipeline(memory=None,\n",
       "         steps=[('prep',\n",
       "                 ColumnTransformer(n_jobs=None, remainder='drop',\n",
       "                                   sparse_threshold=0.3,\n",
       "                                   transformer_weights=None,\n",
       "                                   transformers=[('onehoten',\n",
       "                                                  Pipeline(memory=None,\n",
       "                                                           steps=[('onehot',\n",
       "                                                                   OneHotEncoder(categories='auto',\n",
       "                                                                                 drop=None,\n",
       "                                                                                 dtype=<class 'numpy.float64'>,\n",
       "                                                                                 handle_unknown='error',\n",
       "                                                                                 sparse=True))],\n",
       "                                                           verbose=False),\n",
       "                                                  ['department_name',\n",
       "                                                   'job_title', 'B...\n",
       "                               interaction_constraints='',\n",
       "                               learning_rate=0.300000012, max_delta_step=0,\n",
       "                               max_depth=6, min_child_weight=1, missing=nan,\n",
       "                               monotone_constraints='()', n_estimators=100,\n",
       "                               n_jobs=0, num_parallel_tree=1,\n",
       "                               objective='binary:logistic', random_state=0,\n",
       "                               reg_alpha=0, reg_lambda=1, scale_pos_weight=1,\n",
       "                               subsample=1, tree_method='exact',\n",
       "                               validate_parameters=1, verbosity=None))],\n",
       "         verbose=False)"
      ]
     },
     "execution_count": 249,
     "metadata": {},
     "output_type": "execute_result"
    }
   ],
   "source": [
    "pipeXG.fit(xtrain,ytrain)"
   ]
  },
  {
   "cell_type": "code",
   "execution_count": 251,
   "metadata": {
    "execution": {
     "iopub.execute_input": "2020-11-09T07:30:56.772209Z",
     "iopub.status.busy": "2020-11-09T07:30:56.771178Z",
     "iopub.status.idle": "2020-11-09T07:30:56.854953Z",
     "shell.execute_reply": "2020-11-09T07:30:56.853955Z",
     "shell.execute_reply.started": "2020-11-09T07:30:56.772209Z"
    }
   },
   "outputs": [],
   "source": [
    "ybaseXG = pipeXG.predict(xtest)"
   ]
  },
  {
   "cell_type": "code",
   "execution_count": 252,
   "metadata": {
    "execution": {
     "iopub.execute_input": "2020-11-09T07:30:57.053359Z",
     "iopub.status.busy": "2020-11-09T07:30:57.052366Z",
     "iopub.status.idle": "2020-11-09T07:30:57.086321Z",
     "shell.execute_reply": "2020-11-09T07:30:57.086321Z",
     "shell.execute_reply.started": "2020-11-09T07:30:57.053359Z"
    }
   },
   "outputs": [
    {
     "name": "stdout",
     "output_type": "stream",
     "text": [
      "              precision    recall  f1-score   support\n",
      "\n",
      "           0       0.85      0.90      0.88      9634\n",
      "           1       0.90      0.84      0.87      9634\n",
      "\n",
      "    accuracy                           0.87     19268\n",
      "   macro avg       0.87      0.87      0.87     19268\n",
      "weighted avg       0.87      0.87      0.87     19268\n",
      "\n"
     ]
    }
   ],
   "source": [
    "print(classification_report(ytest, ybaseXG))"
   ]
  },
  {
   "cell_type": "code",
   "execution_count": 253,
   "metadata": {
    "execution": {
     "iopub.execute_input": "2020-11-09T07:30:57.344732Z",
     "iopub.status.busy": "2020-11-09T07:30:57.344732Z",
     "iopub.status.idle": "2020-11-09T07:30:57.445457Z",
     "shell.execute_reply": "2020-11-09T07:30:57.445457Z",
     "shell.execute_reply.started": "2020-11-09T07:30:57.344732Z"
    }
   },
   "outputs": [
    {
     "data": {
      "text/html": [
       "<div>\n",
       "<style scoped>\n",
       "    .dataframe tbody tr th:only-of-type {\n",
       "        vertical-align: middle;\n",
       "    }\n",
       "\n",
       "    .dataframe tbody tr th {\n",
       "        vertical-align: top;\n",
       "    }\n",
       "\n",
       "    .dataframe thead th {\n",
       "        text-align: right;\n",
       "    }\n",
       "</style>\n",
       "<table border=\"1\" class=\"dataframe\">\n",
       "  <thead>\n",
       "    <tr style=\"text-align: right;\">\n",
       "      <th></th>\n",
       "      <th>0</th>\n",
       "      <th>1</th>\n",
       "    </tr>\n",
       "  </thead>\n",
       "  <tbody>\n",
       "    <tr>\n",
       "      <th>0</th>\n",
       "      <td>8709</td>\n",
       "      <td>925</td>\n",
       "    </tr>\n",
       "    <tr>\n",
       "      <th>1</th>\n",
       "      <td>1535</td>\n",
       "      <td>8099</td>\n",
       "    </tr>\n",
       "  </tbody>\n",
       "</table>\n",
       "</div>"
      ],
      "text/plain": [
       "      0     1\n",
       "0  8709   925\n",
       "1  1535  8099"
      ]
     },
     "execution_count": 253,
     "metadata": {},
     "output_type": "execute_result"
    }
   ],
   "source": [
    "pd.DataFrame(confusion_matrix(ytest,ybaseXG,labels=label),columns=label,index=label)"
   ]
  },
  {
   "cell_type": "code",
   "execution_count": 254,
   "metadata": {
    "execution": {
     "iopub.execute_input": "2020-11-09T07:31:23.610342Z",
     "iopub.status.busy": "2020-11-09T07:31:23.610342Z",
     "iopub.status.idle": "2020-11-09T07:31:23.640889Z",
     "shell.execute_reply": "2020-11-09T07:31:23.640889Z",
     "shell.execute_reply.started": "2020-11-09T07:31:23.610342Z"
    }
   },
   "outputs": [
    {
     "data": {
      "text/plain": [
       "{'memory': None,\n",
       " 'steps': [('prep',\n",
       "   ColumnTransformer(n_jobs=None, remainder='drop', sparse_threshold=0.3,\n",
       "                     transformer_weights=None,\n",
       "                     transformers=[('onehoten',\n",
       "                                    Pipeline(memory=None,\n",
       "                                             steps=[('onehot',\n",
       "                                                     OneHotEncoder(categories='auto',\n",
       "                                                                   drop=None,\n",
       "                                                                   dtype=<class 'numpy.float64'>,\n",
       "                                                                   handle_unknown='error',\n",
       "                                                                   sparse=True))],\n",
       "                                             verbose=False),\n",
       "                                    ['department_name', 'job_title',\n",
       "                                     'BUSINESS_UNIT', 'gender_full']),\n",
       "                                   ('defa', 'passthrough', ['length_of_service'])],\n",
       "                     verbose=False)),\n",
       "  ('model',\n",
       "   XGBClassifier(base_score=0.5, booster='gbtree', colsample_bylevel=1,\n",
       "                 colsample_bynode=1, colsample_bytree=1, gamma=0, gpu_id=-1,\n",
       "                 importance_type='gain', interaction_constraints='',\n",
       "                 learning_rate=0.300000012, max_delta_step=0, max_depth=6,\n",
       "                 min_child_weight=1, missing=nan, monotone_constraints='()',\n",
       "                 n_estimators=100, n_jobs=0, num_parallel_tree=1,\n",
       "                 objective='binary:logistic', random_state=0, reg_alpha=0,\n",
       "                 reg_lambda=1, scale_pos_weight=1, subsample=1,\n",
       "                 tree_method='exact', validate_parameters=1, verbosity=None))],\n",
       " 'verbose': False,\n",
       " 'prep': ColumnTransformer(n_jobs=None, remainder='drop', sparse_threshold=0.3,\n",
       "                   transformer_weights=None,\n",
       "                   transformers=[('onehoten',\n",
       "                                  Pipeline(memory=None,\n",
       "                                           steps=[('onehot',\n",
       "                                                   OneHotEncoder(categories='auto',\n",
       "                                                                 drop=None,\n",
       "                                                                 dtype=<class 'numpy.float64'>,\n",
       "                                                                 handle_unknown='error',\n",
       "                                                                 sparse=True))],\n",
       "                                           verbose=False),\n",
       "                                  ['department_name', 'job_title',\n",
       "                                   'BUSINESS_UNIT', 'gender_full']),\n",
       "                                 ('defa', 'passthrough', ['length_of_service'])],\n",
       "                   verbose=False),\n",
       " 'model': XGBClassifier(base_score=0.5, booster='gbtree', colsample_bylevel=1,\n",
       "               colsample_bynode=1, colsample_bytree=1, gamma=0, gpu_id=-1,\n",
       "               importance_type='gain', interaction_constraints='',\n",
       "               learning_rate=0.300000012, max_delta_step=0, max_depth=6,\n",
       "               min_child_weight=1, missing=nan, monotone_constraints='()',\n",
       "               n_estimators=100, n_jobs=0, num_parallel_tree=1,\n",
       "               objective='binary:logistic', random_state=0, reg_alpha=0,\n",
       "               reg_lambda=1, scale_pos_weight=1, subsample=1,\n",
       "               tree_method='exact', validate_parameters=1, verbosity=None),\n",
       " 'prep__n_jobs': None,\n",
       " 'prep__remainder': 'drop',\n",
       " 'prep__sparse_threshold': 0.3,\n",
       " 'prep__transformer_weights': None,\n",
       " 'prep__transformers': [('onehoten',\n",
       "   Pipeline(memory=None,\n",
       "            steps=[('onehot',\n",
       "                    OneHotEncoder(categories='auto', drop=None,\n",
       "                                  dtype=<class 'numpy.float64'>,\n",
       "                                  handle_unknown='error', sparse=True))],\n",
       "            verbose=False),\n",
       "   ['department_name', 'job_title', 'BUSINESS_UNIT', 'gender_full']),\n",
       "  ('defa', 'passthrough', ['length_of_service'])],\n",
       " 'prep__verbose': False,\n",
       " 'prep__onehoten': Pipeline(memory=None,\n",
       "          steps=[('onehot',\n",
       "                  OneHotEncoder(categories='auto', drop=None,\n",
       "                                dtype=<class 'numpy.float64'>,\n",
       "                                handle_unknown='error', sparse=True))],\n",
       "          verbose=False),\n",
       " 'prep__defa': 'passthrough',\n",
       " 'prep__onehoten__memory': None,\n",
       " 'prep__onehoten__steps': [('onehot',\n",
       "   OneHotEncoder(categories='auto', drop=None, dtype=<class 'numpy.float64'>,\n",
       "                 handle_unknown='error', sparse=True))],\n",
       " 'prep__onehoten__verbose': False,\n",
       " 'prep__onehoten__onehot': OneHotEncoder(categories='auto', drop=None, dtype=<class 'numpy.float64'>,\n",
       "               handle_unknown='error', sparse=True),\n",
       " 'prep__onehoten__onehot__categories': 'auto',\n",
       " 'prep__onehoten__onehot__drop': None,\n",
       " 'prep__onehoten__onehot__dtype': numpy.float64,\n",
       " 'prep__onehoten__onehot__handle_unknown': 'error',\n",
       " 'prep__onehoten__onehot__sparse': True,\n",
       " 'model__objective': 'binary:logistic',\n",
       " 'model__base_score': 0.5,\n",
       " 'model__booster': 'gbtree',\n",
       " 'model__colsample_bylevel': 1,\n",
       " 'model__colsample_bynode': 1,\n",
       " 'model__colsample_bytree': 1,\n",
       " 'model__gamma': 0,\n",
       " 'model__gpu_id': -1,\n",
       " 'model__importance_type': 'gain',\n",
       " 'model__interaction_constraints': '',\n",
       " 'model__learning_rate': 0.300000012,\n",
       " 'model__max_delta_step': 0,\n",
       " 'model__max_depth': 6,\n",
       " 'model__min_child_weight': 1,\n",
       " 'model__missing': nan,\n",
       " 'model__monotone_constraints': '()',\n",
       " 'model__n_estimators': 100,\n",
       " 'model__n_jobs': 0,\n",
       " 'model__num_parallel_tree': 1,\n",
       " 'model__random_state': 0,\n",
       " 'model__reg_alpha': 0,\n",
       " 'model__reg_lambda': 1,\n",
       " 'model__scale_pos_weight': 1,\n",
       " 'model__subsample': 1,\n",
       " 'model__tree_method': 'exact',\n",
       " 'model__validate_parameters': 1,\n",
       " 'model__verbosity': None}"
      ]
     },
     "execution_count": 254,
     "metadata": {},
     "output_type": "execute_result"
    }
   ],
   "source": [
    "pipeXG.get_params()"
   ]
  },
  {
   "cell_type": "code",
   "execution_count": 272,
   "metadata": {
    "execution": {
     "iopub.execute_input": "2020-11-09T07:39:50.914415Z",
     "iopub.status.busy": "2020-11-09T07:39:50.914415Z",
     "iopub.status.idle": "2020-11-09T07:39:50.928377Z",
     "shell.execute_reply": "2020-11-09T07:39:50.927433Z",
     "shell.execute_reply.started": "2020-11-09T07:39:50.914415Z"
    }
   },
   "outputs": [],
   "source": [
    "paramXG = {\n",
    "    'model__gamma': [10,13],\n",
    "    'model__max_depth': [9,10,11],\n",
    "    'model__learning_rate': [0.300000012,0.2,0.4],\n",
    "}"
   ]
  },
  {
   "cell_type": "code",
   "execution_count": 273,
   "metadata": {
    "execution": {
     "iopub.execute_input": "2020-11-09T07:39:51.429924Z",
     "iopub.status.busy": "2020-11-09T07:39:51.429924Z",
     "iopub.status.idle": "2020-11-09T07:39:51.444902Z",
     "shell.execute_reply": "2020-11-09T07:39:51.443866Z",
     "shell.execute_reply.started": "2020-11-09T07:39:51.429924Z"
    }
   },
   "outputs": [],
   "source": [
    "gridXG = GridSearchCV(estimator=pipeXG, param_grid=paramXG, verbose=1, n_jobs=-1, cv=4,scoring='recall')"
   ]
  },
  {
   "cell_type": "code",
   "execution_count": 274,
   "metadata": {
    "execution": {
     "iopub.execute_input": "2020-11-09T07:39:51.792695Z",
     "iopub.status.busy": "2020-11-09T07:39:51.791698Z",
     "iopub.status.idle": "2020-11-09T07:40:46.004904Z",
     "shell.execute_reply": "2020-11-09T07:40:46.003906Z",
     "shell.execute_reply.started": "2020-11-09T07:39:51.791698Z"
    }
   },
   "outputs": [
    {
     "name": "stdout",
     "output_type": "stream",
     "text": [
      "Fitting 4 folds for each of 18 candidates, totalling 72 fits\n"
     ]
    },
    {
     "name": "stderr",
     "output_type": "stream",
     "text": [
      "[Parallel(n_jobs=-1)]: Using backend LokyBackend with 12 concurrent workers.\n",
      "[Parallel(n_jobs=-1)]: Done  26 tasks      | elapsed:   24.0s\n",
      "[Parallel(n_jobs=-1)]: Done  72 out of  72 | elapsed:   51.1s finished\n"
     ]
    },
    {
     "data": {
      "text/plain": [
       "GridSearchCV(cv=4, error_score=nan,\n",
       "             estimator=Pipeline(memory=None,\n",
       "                                steps=[('prep',\n",
       "                                        ColumnTransformer(n_jobs=None,\n",
       "                                                          remainder='drop',\n",
       "                                                          sparse_threshold=0.3,\n",
       "                                                          transformer_weights=None,\n",
       "                                                          transformers=[('onehoten',\n",
       "                                                                         Pipeline(memory=None,\n",
       "                                                                                  steps=[('onehot',\n",
       "                                                                                          OneHotEncoder(categories='auto',\n",
       "                                                                                                        drop=None,\n",
       "                                                                                                        dtype=<class 'numpy.float64'>,\n",
       "                                                                                                        handle_unknown='error',\n",
       "                                                                                                        sparse=True))],\n",
       "                                                                                  verb...\n",
       "                                                      reg_alpha=0, reg_lambda=1,\n",
       "                                                      scale_pos_weight=1,\n",
       "                                                      subsample=1,\n",
       "                                                      tree_method='exact',\n",
       "                                                      validate_parameters=1,\n",
       "                                                      verbosity=None))],\n",
       "                                verbose=False),\n",
       "             iid='deprecated', n_jobs=-1,\n",
       "             param_grid={'model__gamma': [10, 13],\n",
       "                         'model__learning_rate': [0.300000012, 0.2, 0.4],\n",
       "                         'model__max_depth': [9, 10, 11]},\n",
       "             pre_dispatch='2*n_jobs', refit=True, return_train_score=False,\n",
       "             scoring='recall', verbose=1)"
      ]
     },
     "execution_count": 274,
     "metadata": {},
     "output_type": "execute_result"
    }
   ],
   "source": [
    "gridXG.fit(xtrain,ytrain)"
   ]
  },
  {
   "cell_type": "code",
   "execution_count": 275,
   "metadata": {
    "execution": {
     "iopub.execute_input": "2020-11-09T07:40:46.005901Z",
     "iopub.status.busy": "2020-11-09T07:40:46.005901Z",
     "iopub.status.idle": "2020-11-09T07:40:46.019896Z",
     "shell.execute_reply": "2020-11-09T07:40:46.018867Z",
     "shell.execute_reply.started": "2020-11-09T07:40:46.005901Z"
    }
   },
   "outputs": [
    {
     "data": {
      "text/plain": [
       "{'model__gamma': 10,\n",
       " 'model__learning_rate': 0.300000012,\n",
       " 'model__max_depth': 9}"
      ]
     },
     "execution_count": 275,
     "metadata": {},
     "output_type": "execute_result"
    }
   ],
   "source": [
    "gridXG.best_params_"
   ]
  },
  {
   "cell_type": "code",
   "execution_count": 276,
   "metadata": {
    "execution": {
     "iopub.execute_input": "2020-11-09T07:40:46.020861Z",
     "iopub.status.busy": "2020-11-09T07:40:46.020861Z",
     "iopub.status.idle": "2020-11-09T07:40:46.033859Z",
     "shell.execute_reply": "2020-11-09T07:40:46.033859Z",
     "shell.execute_reply.started": "2020-11-09T07:40:46.020861Z"
    }
   },
   "outputs": [],
   "source": [
    "bestXG = gridXG.best_estimator_"
   ]
  },
  {
   "cell_type": "code",
   "execution_count": 277,
   "metadata": {
    "execution": {
     "iopub.execute_input": "2020-11-09T07:40:46.035897Z",
     "iopub.status.busy": "2020-11-09T07:40:46.034890Z",
     "iopub.status.idle": "2020-11-09T07:40:46.113901Z",
     "shell.execute_reply": "2020-11-09T07:40:46.112904Z",
     "shell.execute_reply.started": "2020-11-09T07:40:46.035897Z"
    }
   },
   "outputs": [],
   "source": [
    "ygridXG = bestXG.predict(xtest)"
   ]
  },
  {
   "cell_type": "code",
   "execution_count": 278,
   "metadata": {
    "execution": {
     "iopub.execute_input": "2020-11-09T07:40:46.115897Z",
     "iopub.status.busy": "2020-11-09T07:40:46.115897Z",
     "iopub.status.idle": "2020-11-09T07:40:46.177813Z",
     "shell.execute_reply": "2020-11-09T07:40:46.176816Z",
     "shell.execute_reply.started": "2020-11-09T07:40:46.115897Z"
    }
   },
   "outputs": [
    {
     "name": "stdout",
     "output_type": "stream",
     "text": [
      "              precision    recall  f1-score   support\n",
      "\n",
      "           0       0.85      0.90      0.88      9634\n",
      "           1       0.89      0.85      0.87      9634\n",
      "\n",
      "    accuracy                           0.87     19268\n",
      "   macro avg       0.87      0.87      0.87     19268\n",
      "weighted avg       0.87      0.87      0.87     19268\n",
      "\n"
     ]
    }
   ],
   "source": [
    "print(classification_report(ytest, ygridXG))"
   ]
  },
  {
   "cell_type": "code",
   "execution_count": 279,
   "metadata": {
    "execution": {
     "iopub.execute_input": "2020-11-09T07:40:46.179808Z",
     "iopub.status.busy": "2020-11-09T07:40:46.178810Z",
     "iopub.status.idle": "2020-11-09T07:40:46.301413Z",
     "shell.execute_reply": "2020-11-09T07:40:46.300456Z",
     "shell.execute_reply.started": "2020-11-09T07:40:46.179808Z"
    }
   },
   "outputs": [
    {
     "data": {
      "text/html": [
       "<div>\n",
       "<style scoped>\n",
       "    .dataframe tbody tr th:only-of-type {\n",
       "        vertical-align: middle;\n",
       "    }\n",
       "\n",
       "    .dataframe tbody tr th {\n",
       "        vertical-align: top;\n",
       "    }\n",
       "\n",
       "    .dataframe thead th {\n",
       "        text-align: right;\n",
       "    }\n",
       "</style>\n",
       "<table border=\"1\" class=\"dataframe\">\n",
       "  <thead>\n",
       "    <tr style=\"text-align: right;\">\n",
       "      <th></th>\n",
       "      <th>0</th>\n",
       "      <th>1</th>\n",
       "    </tr>\n",
       "  </thead>\n",
       "  <tbody>\n",
       "    <tr>\n",
       "      <th>0</th>\n",
       "      <td>8649</td>\n",
       "      <td>985</td>\n",
       "    </tr>\n",
       "    <tr>\n",
       "      <th>1</th>\n",
       "      <td>1477</td>\n",
       "      <td>8157</td>\n",
       "    </tr>\n",
       "  </tbody>\n",
       "</table>\n",
       "</div>"
      ],
      "text/plain": [
       "      0     1\n",
       "0  8649   985\n",
       "1  1477  8157"
      ]
     },
     "execution_count": 279,
     "metadata": {},
     "output_type": "execute_result"
    }
   ],
   "source": [
    "pd.DataFrame(confusion_matrix(ytest,ygridXG,labels=label),columns=label,index=label)"
   ]
  },
  {
   "cell_type": "markdown",
   "metadata": {},
   "source": [
    "# Perbandingan Model"
   ]
  },
  {
   "cell_type": "code",
   "execution_count": 300,
   "metadata": {
    "execution": {
     "iopub.execute_input": "2020-11-09T07:43:48.227947Z",
     "iopub.status.busy": "2020-11-09T07:43:48.226949Z",
     "iopub.status.idle": "2020-11-09T07:43:48.317706Z",
     "shell.execute_reply": "2020-11-09T07:43:48.317706Z",
     "shell.execute_reply.started": "2020-11-09T07:43:48.226949Z"
    }
   },
   "outputs": [
    {
     "name": "stdout",
     "output_type": "stream",
     "text": [
      "Logistic Regression\n"
     ]
    },
    {
     "data": {
      "text/html": [
       "<div>\n",
       "<style scoped>\n",
       "    .dataframe tbody tr th:only-of-type {\n",
       "        vertical-align: middle;\n",
       "    }\n",
       "\n",
       "    .dataframe tbody tr th {\n",
       "        vertical-align: top;\n",
       "    }\n",
       "\n",
       "    .dataframe thead th {\n",
       "        text-align: right;\n",
       "    }\n",
       "</style>\n",
       "<table border=\"1\" class=\"dataframe\">\n",
       "  <thead>\n",
       "    <tr style=\"text-align: right;\">\n",
       "      <th></th>\n",
       "      <th>0</th>\n",
       "      <th>1</th>\n",
       "    </tr>\n",
       "  </thead>\n",
       "  <tbody>\n",
       "    <tr>\n",
       "      <th>0</th>\n",
       "      <td>6019</td>\n",
       "      <td>3615</td>\n",
       "    </tr>\n",
       "    <tr>\n",
       "      <th>1</th>\n",
       "      <td>3046</td>\n",
       "      <td>6588</td>\n",
       "    </tr>\n",
       "  </tbody>\n",
       "</table>\n",
       "</div>"
      ],
      "text/plain": [
       "      0     1\n",
       "0  6019  3615\n",
       "1  3046  6588"
      ]
     },
     "execution_count": 300,
     "metadata": {},
     "output_type": "execute_result"
    }
   ],
   "source": [
    "print('Logistic Regression')\n",
    "pd.DataFrame(confusion_matrix(ytest,ygridLR,labels=label),columns=label,index=label)"
   ]
  },
  {
   "cell_type": "code",
   "execution_count": 301,
   "metadata": {
    "execution": {
     "iopub.execute_input": "2020-11-09T07:43:48.613004Z",
     "iopub.status.busy": "2020-11-09T07:43:48.613004Z",
     "iopub.status.idle": "2020-11-09T07:43:48.696778Z",
     "shell.execute_reply": "2020-11-09T07:43:48.695824Z",
     "shell.execute_reply.started": "2020-11-09T07:43:48.613004Z"
    }
   },
   "outputs": [
    {
     "name": "stdout",
     "output_type": "stream",
     "text": [
      "Decision Tree\n"
     ]
    },
    {
     "data": {
      "text/html": [
       "<div>\n",
       "<style scoped>\n",
       "    .dataframe tbody tr th:only-of-type {\n",
       "        vertical-align: middle;\n",
       "    }\n",
       "\n",
       "    .dataframe tbody tr th {\n",
       "        vertical-align: top;\n",
       "    }\n",
       "\n",
       "    .dataframe thead th {\n",
       "        text-align: right;\n",
       "    }\n",
       "</style>\n",
       "<table border=\"1\" class=\"dataframe\">\n",
       "  <thead>\n",
       "    <tr style=\"text-align: right;\">\n",
       "      <th></th>\n",
       "      <th>0</th>\n",
       "      <th>1</th>\n",
       "    </tr>\n",
       "  </thead>\n",
       "  <tbody>\n",
       "    <tr>\n",
       "      <th>0</th>\n",
       "      <td>8591</td>\n",
       "      <td>1043</td>\n",
       "    </tr>\n",
       "    <tr>\n",
       "      <th>1</th>\n",
       "      <td>1460</td>\n",
       "      <td>8174</td>\n",
       "    </tr>\n",
       "  </tbody>\n",
       "</table>\n",
       "</div>"
      ],
      "text/plain": [
       "      0     1\n",
       "0  8591  1043\n",
       "1  1460  8174"
      ]
     },
     "execution_count": 301,
     "metadata": {},
     "output_type": "execute_result"
    }
   ],
   "source": [
    "print('Decision Tree')\n",
    "pd.DataFrame(confusion_matrix(ytest,ygridDT,labels=label),columns=label,index=label)"
   ]
  },
  {
   "cell_type": "code",
   "execution_count": 302,
   "metadata": {
    "execution": {
     "iopub.execute_input": "2020-11-09T07:43:49.181972Z",
     "iopub.status.busy": "2020-11-09T07:43:49.181972Z",
     "iopub.status.idle": "2020-11-09T07:43:49.268711Z",
     "shell.execute_reply": "2020-11-09T07:43:49.267713Z",
     "shell.execute_reply.started": "2020-11-09T07:43:49.181972Z"
    }
   },
   "outputs": [
    {
     "name": "stdout",
     "output_type": "stream",
     "text": [
      "XGBoost\n"
     ]
    },
    {
     "data": {
      "text/html": [
       "<div>\n",
       "<style scoped>\n",
       "    .dataframe tbody tr th:only-of-type {\n",
       "        vertical-align: middle;\n",
       "    }\n",
       "\n",
       "    .dataframe tbody tr th {\n",
       "        vertical-align: top;\n",
       "    }\n",
       "\n",
       "    .dataframe thead th {\n",
       "        text-align: right;\n",
       "    }\n",
       "</style>\n",
       "<table border=\"1\" class=\"dataframe\">\n",
       "  <thead>\n",
       "    <tr style=\"text-align: right;\">\n",
       "      <th></th>\n",
       "      <th>0</th>\n",
       "      <th>1</th>\n",
       "    </tr>\n",
       "  </thead>\n",
       "  <tbody>\n",
       "    <tr>\n",
       "      <th>0</th>\n",
       "      <td>8649</td>\n",
       "      <td>985</td>\n",
       "    </tr>\n",
       "    <tr>\n",
       "      <th>1</th>\n",
       "      <td>1477</td>\n",
       "      <td>8157</td>\n",
       "    </tr>\n",
       "  </tbody>\n",
       "</table>\n",
       "</div>"
      ],
      "text/plain": [
       "      0     1\n",
       "0  8649   985\n",
       "1  1477  8157"
      ]
     },
     "execution_count": 302,
     "metadata": {},
     "output_type": "execute_result"
    }
   ],
   "source": [
    "print('XGBoost')\n",
    "pd.DataFrame(confusion_matrix(ytest,ygridXG,labels=label),columns=label,index=label)"
   ]
  },
  {
   "cell_type": "code",
   "execution_count": 297,
   "metadata": {
    "execution": {
     "iopub.execute_input": "2020-11-09T07:43:03.217607Z",
     "iopub.status.busy": "2020-11-09T07:43:03.217607Z",
     "iopub.status.idle": "2020-11-09T07:43:03.257517Z",
     "shell.execute_reply": "2020-11-09T07:43:03.257517Z",
     "shell.execute_reply.started": "2020-11-09T07:43:03.217607Z"
    }
   },
   "outputs": [
    {
     "name": "stdout",
     "output_type": "stream",
     "text": [
      "Logistic Regression\n",
      "              precision    recall  f1-score   support\n",
      "\n",
      "           0       0.66      0.62      0.64      9634\n",
      "           1       0.65      0.68      0.66      9634\n",
      "\n",
      "    accuracy                           0.65     19268\n",
      "   macro avg       0.65      0.65      0.65     19268\n",
      "weighted avg       0.65      0.65      0.65     19268\n",
      "\n"
     ]
    }
   ],
   "source": [
    "print('Logistic Regression')\n",
    "print(classification_report(ytest, ygridLR))"
   ]
  },
  {
   "cell_type": "code",
   "execution_count": 298,
   "metadata": {
    "execution": {
     "iopub.execute_input": "2020-11-09T07:43:16.246181Z",
     "iopub.status.busy": "2020-11-09T07:43:16.246181Z",
     "iopub.status.idle": "2020-11-09T07:43:16.286074Z",
     "shell.execute_reply": "2020-11-09T07:43:16.286074Z",
     "shell.execute_reply.started": "2020-11-09T07:43:16.246181Z"
    }
   },
   "outputs": [
    {
     "name": "stdout",
     "output_type": "stream",
     "text": [
      "Decision Tree\n",
      "              precision    recall  f1-score   support\n",
      "\n",
      "           0       0.85      0.89      0.87      9634\n",
      "           1       0.89      0.85      0.87      9634\n",
      "\n",
      "    accuracy                           0.87     19268\n",
      "   macro avg       0.87      0.87      0.87     19268\n",
      "weighted avg       0.87      0.87      0.87     19268\n",
      "\n"
     ]
    }
   ],
   "source": [
    "print('Decision Tree')\n",
    "print(classification_report(ytest, ygridDT))"
   ]
  },
  {
   "cell_type": "code",
   "execution_count": 299,
   "metadata": {
    "execution": {
     "iopub.execute_input": "2020-11-09T07:43:25.855674Z",
     "iopub.status.busy": "2020-11-09T07:43:25.855674Z",
     "iopub.status.idle": "2020-11-09T07:43:25.889583Z",
     "shell.execute_reply": "2020-11-09T07:43:25.888622Z",
     "shell.execute_reply.started": "2020-11-09T07:43:25.855674Z"
    }
   },
   "outputs": [
    {
     "name": "stdout",
     "output_type": "stream",
     "text": [
      "XGBoost\n",
      "              precision    recall  f1-score   support\n",
      "\n",
      "           0       0.85      0.90      0.88      9634\n",
      "           1       0.89      0.85      0.87      9634\n",
      "\n",
      "    accuracy                           0.87     19268\n",
      "   macro avg       0.87      0.87      0.87     19268\n",
      "weighted avg       0.87      0.87      0.87     19268\n",
      "\n"
     ]
    }
   ],
   "source": [
    "print('XGBoost')\n",
    "print(classification_report(ytest, ygridXG))"
   ]
  },
  {
   "cell_type": "markdown",
   "metadata": {},
   "source": [
    "# Kesimpulan\n",
    "\n",
    "1. Kesimpulan Model:\n",
    "\n",
    "- Tujuan dari model adalah untuk memprediksi karyawan apakah dia akan mengajukan resign atau tidak.\n",
    "- Setelah dilakukan evaluasi terhadap ketiga model diatas, dapat dilihat bahwa model Decision Tree lebih cocok untuk permasalahan ini\n",
    "- Score yang digunakan dalam menentukan best model adalah recall karena fokus untuk mendapatkan tebakan yang benar TP dibandingkan dengan seluruh data Positif yang ada.\n",
    "- Meskipun score model Decision Tree sama dengan XGBoost, tetapi dapat dilihat pada confussion matrix, False Negatif untuk Decision Tree lebih rendah\n",
    "- False Negatif adalah karyawan yang aktualnya akan mengajukan resign namun di prediksi tidak mengajikan resign, jika nilai FN besar maka perusahaan akan mendapatkan kerugian karena tidak dapat mengantisipasi karyawan yang akan mengajukan resign tersebut.\n",
    "\n",
    "2. Kesimpulan EDA:\n",
    "\n",
    "- Karyawan paling banyak mengajukan resign pada posisi Cashier dan Shelf Stocker\n",
    "- Karyawan yang berada di 98% karyawannya HEADOFFICE cenderung berhenti karena sudah memasuki pensiun, sedangkan di STORES 30% karyawan berhenti karena mengajukan resign\n",
    "- Karyawan dalam department Meats paling banyak mengajukan pemberhentian dibandingkan departmen lain"
   ]
  },
  {
   "cell_type": "markdown",
   "metadata": {},
   "source": [
    "# Saran\n",
    "\n",
    "- Perusahaan memperketat peraturan resign untuk posisi tertentu, seperti Cashier dan Shelf Stocker\n",
    "- Karyawan HEADOFFICE cenderung lebih sedikit yang mengajukan resign dibanding STORES bisa sehingga dibutuhkan perhatian lebih kepada karyawan yang bekerja di unit STORES\n",
    "- Karyawan di department Meats paling banyak mengajukan resign dengan alasan retirement. Sehingga perlu diperhatikan usia karyawan pada departmen Meats untuk mengantisipasi karyawan lain yang akan mengajikan resign - retirement."
   ]
  },
  {
   "cell_type": "code",
   "execution_count": 303,
   "metadata": {
    "execution": {
     "iopub.execute_input": "2020-11-09T08:01:27.454939Z",
     "iopub.status.busy": "2020-11-09T08:01:27.454939Z",
     "iopub.status.idle": "2020-11-09T08:01:27.460954Z",
     "shell.execute_reply": "2020-11-09T08:01:27.459960Z",
     "shell.execute_reply.started": "2020-11-09T08:01:27.454939Z"
    }
   },
   "outputs": [],
   "source": [
    "import joblib"
   ]
  },
  {
   "cell_type": "code",
   "execution_count": 305,
   "metadata": {
    "execution": {
     "iopub.execute_input": "2020-11-09T08:01:49.181440Z",
     "iopub.status.busy": "2020-11-09T08:01:49.181440Z",
     "iopub.status.idle": "2020-11-09T08:01:49.237304Z",
     "shell.execute_reply": "2020-11-09T08:01:49.237304Z",
     "shell.execute_reply.started": "2020-11-09T08:01:49.181440Z"
    }
   },
   "outputs": [
    {
     "data": {
      "text/plain": [
       "['DecTreeEmployee']"
      ]
     },
     "execution_count": 305,
     "metadata": {},
     "output_type": "execute_result"
    }
   ],
   "source": [
    "joblib.dump(bestDT, \"DecTreeEmployee\")"
   ]
  }
 ],
 "metadata": {
  "kernelspec": {
   "display_name": "Python 3",
   "language": "python",
   "name": "python3"
  },
  "language_info": {
   "codemirror_mode": {
    "name": "ipython",
    "version": 3
   },
   "file_extension": ".py",
   "mimetype": "text/x-python",
   "name": "python",
   "nbconvert_exporter": "python",
   "pygments_lexer": "ipython3",
   "version": "3.8.3"
  }
 },
 "nbformat": 4,
 "nbformat_minor": 4
}
