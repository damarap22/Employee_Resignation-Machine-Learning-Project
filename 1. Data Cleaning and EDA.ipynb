{
 "cells": [
  {
   "cell_type": "code",
   "execution_count": 250,
   "metadata": {
    "execution": {
     "iopub.execute_input": "2020-11-09T05:13:45.134410Z",
     "iopub.status.busy": "2020-11-09T05:13:45.134410Z",
     "iopub.status.idle": "2020-11-09T05:13:45.150340Z",
     "shell.execute_reply": "2020-11-09T05:13:45.150340Z",
     "shell.execute_reply.started": "2020-11-09T05:13:45.134410Z"
    }
   },
   "outputs": [],
   "source": [
    "import pandas as pd\n",
    "import numpy as np\n",
    "import matplotlib.pyplot as plt\n",
    "import seaborn as sns\n",
    "\n",
    "%matplotlib inline"
   ]
  },
  {
   "cell_type": "code",
   "execution_count": 251,
   "metadata": {
    "execution": {
     "iopub.execute_input": "2020-11-09T05:13:45.152333Z",
     "iopub.status.busy": "2020-11-09T05:13:45.151337Z",
     "iopub.status.idle": "2020-11-09T05:13:45.167296Z",
     "shell.execute_reply": "2020-11-09T05:13:45.166329Z",
     "shell.execute_reply.started": "2020-11-09T05:13:45.152333Z"
    }
   },
   "outputs": [],
   "source": [
    "sns.set_style('whitegrid')"
   ]
  },
  {
   "cell_type": "markdown",
   "metadata": {},
   "source": [
    "## Latar Belakang\n",
    "\n",
    "Produktifitas perusahaan akan terganggu ketika karyawan pergi meninggalkan perusahaan. Karyawan baru / pengganti cenderung memiliki performa kerja yang kurang kurang maksimal ketika mempelajari pekerjaan yang baru. Perusahaan akan dibebankan dengan pengeluaran tambahan dalam melakukan pencarian serta pelatihan untuk karyawan baru. Ketika karyawan yang memiliki kemampuan yang sangat baik keluar dari perusahaan, maka perusahaan tersebut akan mengalami beberapa kerugian,yaitu dengan turunnya produktifitas serta adanya pengeluaran tambahan."
   ]
  },
  {
   "cell_type": "markdown",
   "metadata": {
    "execution": {
     "iopub.execute_input": "2020-11-09T02:48:27.875628Z",
     "iopub.status.busy": "2020-11-09T02:48:27.875628Z",
     "iopub.status.idle": "2020-11-09T02:48:27.885567Z",
     "shell.execute_reply": "2020-11-09T02:48:27.884607Z",
     "shell.execute_reply.started": "2020-11-09T02:48:27.875628Z"
    }
   },
   "source": [
    "## Tujuan\n",
    "\n",
    "- Membuat model untuk memprediksi apakah karyawan tersebut akan mengajukan resign atau tidak.\n",
    "- Dengan mengetahui hal tersebut, perusahaan akan dapat melakukan penanganan lebih cepat untuk mengurangi resiko kerugian"
   ]
  },
  {
   "cell_type": "code",
   "execution_count": 252,
   "metadata": {
    "execution": {
     "iopub.execute_input": "2020-11-09T05:13:45.168304Z",
     "iopub.status.busy": "2020-11-09T05:13:45.168304Z",
     "iopub.status.idle": "2020-11-09T05:13:45.308917Z",
     "shell.execute_reply": "2020-11-09T05:13:45.307919Z",
     "shell.execute_reply.started": "2020-11-09T05:13:45.168304Z"
    }
   },
   "outputs": [],
   "source": [
    "df = pd.read_csv('employee.csv')"
   ]
  },
  {
   "cell_type": "markdown",
   "metadata": {},
   "source": [
    "## Deskripsi Data"
   ]
  },
  {
   "cell_type": "code",
   "execution_count": 253,
   "metadata": {
    "execution": {
     "iopub.execute_input": "2020-11-09T05:13:45.309913Z",
     "iopub.status.busy": "2020-11-09T05:13:45.309913Z",
     "iopub.status.idle": "2020-11-09T05:13:45.435615Z",
     "shell.execute_reply": "2020-11-09T05:13:45.435615Z",
     "shell.execute_reply.started": "2020-11-09T05:13:45.309913Z"
    }
   },
   "outputs": [
    {
     "data": {
      "text/html": [
       "<div>\n",
       "<style scoped>\n",
       "    .dataframe tbody tr th:only-of-type {\n",
       "        vertical-align: middle;\n",
       "    }\n",
       "\n",
       "    .dataframe tbody tr th {\n",
       "        vertical-align: top;\n",
       "    }\n",
       "\n",
       "    .dataframe thead th {\n",
       "        text-align: right;\n",
       "    }\n",
       "</style>\n",
       "<table border=\"1\" class=\"dataframe\">\n",
       "  <thead>\n",
       "    <tr style=\"text-align: right;\">\n",
       "      <th></th>\n",
       "      <th>Nama Kolom</th>\n",
       "      <th>Tipe Kolom</th>\n",
       "      <th>Jumlah NaN</th>\n",
       "      <th>Presentase NaN</th>\n",
       "      <th>Jumlah Data Unik</th>\n",
       "      <th>Sampel Data Unik</th>\n",
       "    </tr>\n",
       "  </thead>\n",
       "  <tbody>\n",
       "    <tr>\n",
       "      <th>0</th>\n",
       "      <td>EmployeeID</td>\n",
       "      <td>int64</td>\n",
       "      <td>0</td>\n",
       "      <td>0.0</td>\n",
       "      <td>6284</td>\n",
       "      <td>[5036, 3831]</td>\n",
       "    </tr>\n",
       "    <tr>\n",
       "      <th>1</th>\n",
       "      <td>recorddate_key</td>\n",
       "      <td>object</td>\n",
       "      <td>0</td>\n",
       "      <td>0.0</td>\n",
       "      <td>130</td>\n",
       "      <td>[10/1/2008 0:00, 7/1/2007 0:00]</td>\n",
       "    </tr>\n",
       "    <tr>\n",
       "      <th>2</th>\n",
       "      <td>birthdate_key</td>\n",
       "      <td>object</td>\n",
       "      <td>0</td>\n",
       "      <td>0.0</td>\n",
       "      <td>5342</td>\n",
       "      <td>[1/7/1991, 3/9/1949]</td>\n",
       "    </tr>\n",
       "    <tr>\n",
       "      <th>3</th>\n",
       "      <td>orighiredate_key</td>\n",
       "      <td>object</td>\n",
       "      <td>0</td>\n",
       "      <td>0.0</td>\n",
       "      <td>4415</td>\n",
       "      <td>[11/13/1996, 1/19/2006]</td>\n",
       "    </tr>\n",
       "    <tr>\n",
       "      <th>4</th>\n",
       "      <td>terminationdate_key</td>\n",
       "      <td>object</td>\n",
       "      <td>0</td>\n",
       "      <td>0.0</td>\n",
       "      <td>1055</td>\n",
       "      <td>[3/16/2009, 8/18/2014]</td>\n",
       "    </tr>\n",
       "    <tr>\n",
       "      <th>5</th>\n",
       "      <td>age</td>\n",
       "      <td>int64</td>\n",
       "      <td>0</td>\n",
       "      <td>0.0</td>\n",
       "      <td>47</td>\n",
       "      <td>[33, 30]</td>\n",
       "    </tr>\n",
       "    <tr>\n",
       "      <th>6</th>\n",
       "      <td>length_of_service</td>\n",
       "      <td>int64</td>\n",
       "      <td>0</td>\n",
       "      <td>0.0</td>\n",
       "      <td>27</td>\n",
       "      <td>[24, 7]</td>\n",
       "    </tr>\n",
       "    <tr>\n",
       "      <th>7</th>\n",
       "      <td>city_name</td>\n",
       "      <td>object</td>\n",
       "      <td>0</td>\n",
       "      <td>0.0</td>\n",
       "      <td>40</td>\n",
       "      <td>[Kamloops, Nelson]</td>\n",
       "    </tr>\n",
       "    <tr>\n",
       "      <th>8</th>\n",
       "      <td>department_name</td>\n",
       "      <td>object</td>\n",
       "      <td>0</td>\n",
       "      <td>0.0</td>\n",
       "      <td>21</td>\n",
       "      <td>[Executive, Investment]</td>\n",
       "    </tr>\n",
       "    <tr>\n",
       "      <th>9</th>\n",
       "      <td>job_title</td>\n",
       "      <td>object</td>\n",
       "      <td>0</td>\n",
       "      <td>0.0</td>\n",
       "      <td>47</td>\n",
       "      <td>[Accounting Clerk, Store Manager]</td>\n",
       "    </tr>\n",
       "    <tr>\n",
       "      <th>10</th>\n",
       "      <td>store_name</td>\n",
       "      <td>int64</td>\n",
       "      <td>0</td>\n",
       "      <td>0.0</td>\n",
       "      <td>46</td>\n",
       "      <td>[24, 17]</td>\n",
       "    </tr>\n",
       "    <tr>\n",
       "      <th>11</th>\n",
       "      <td>gender_short</td>\n",
       "      <td>object</td>\n",
       "      <td>0</td>\n",
       "      <td>0.0</td>\n",
       "      <td>2</td>\n",
       "      <td>[F, M]</td>\n",
       "    </tr>\n",
       "    <tr>\n",
       "      <th>12</th>\n",
       "      <td>gender_full</td>\n",
       "      <td>object</td>\n",
       "      <td>0</td>\n",
       "      <td>0.0</td>\n",
       "      <td>2</td>\n",
       "      <td>[Male, Female]</td>\n",
       "    </tr>\n",
       "    <tr>\n",
       "      <th>13</th>\n",
       "      <td>termreason_desc</td>\n",
       "      <td>object</td>\n",
       "      <td>0</td>\n",
       "      <td>0.0</td>\n",
       "      <td>4</td>\n",
       "      <td>[Resignaton, Layoff]</td>\n",
       "    </tr>\n",
       "    <tr>\n",
       "      <th>14</th>\n",
       "      <td>termtype_desc</td>\n",
       "      <td>object</td>\n",
       "      <td>0</td>\n",
       "      <td>0.0</td>\n",
       "      <td>3</td>\n",
       "      <td>[Not Applicable, Voluntary]</td>\n",
       "    </tr>\n",
       "    <tr>\n",
       "      <th>15</th>\n",
       "      <td>STATUS_YEAR</td>\n",
       "      <td>int64</td>\n",
       "      <td>0</td>\n",
       "      <td>0.0</td>\n",
       "      <td>10</td>\n",
       "      <td>[2011, 2012]</td>\n",
       "    </tr>\n",
       "    <tr>\n",
       "      <th>16</th>\n",
       "      <td>STATUS</td>\n",
       "      <td>object</td>\n",
       "      <td>0</td>\n",
       "      <td>0.0</td>\n",
       "      <td>2</td>\n",
       "      <td>[ACTIVE, TERMINATED]</td>\n",
       "    </tr>\n",
       "    <tr>\n",
       "      <th>17</th>\n",
       "      <td>BUSINESS_UNIT</td>\n",
       "      <td>object</td>\n",
       "      <td>0</td>\n",
       "      <td>0.0</td>\n",
       "      <td>2</td>\n",
       "      <td>[STORES, HEADOFFICE]</td>\n",
       "    </tr>\n",
       "  </tbody>\n",
       "</table>\n",
       "</div>"
      ],
      "text/plain": [
       "             Nama Kolom Tipe Kolom  Jumlah NaN  Presentase NaN  \\\n",
       "0            EmployeeID      int64           0             0.0   \n",
       "1        recorddate_key     object           0             0.0   \n",
       "2         birthdate_key     object           0             0.0   \n",
       "3      orighiredate_key     object           0             0.0   \n",
       "4   terminationdate_key     object           0             0.0   \n",
       "5                   age      int64           0             0.0   \n",
       "6     length_of_service      int64           0             0.0   \n",
       "7             city_name     object           0             0.0   \n",
       "8       department_name     object           0             0.0   \n",
       "9             job_title     object           0             0.0   \n",
       "10           store_name      int64           0             0.0   \n",
       "11         gender_short     object           0             0.0   \n",
       "12          gender_full     object           0             0.0   \n",
       "13      termreason_desc     object           0             0.0   \n",
       "14        termtype_desc     object           0             0.0   \n",
       "15          STATUS_YEAR      int64           0             0.0   \n",
       "16               STATUS     object           0             0.0   \n",
       "17        BUSINESS_UNIT     object           0             0.0   \n",
       "\n",
       "    Jumlah Data Unik                   Sampel Data Unik  \n",
       "0               6284                       [5036, 3831]  \n",
       "1                130    [10/1/2008 0:00, 7/1/2007 0:00]  \n",
       "2               5342               [1/7/1991, 3/9/1949]  \n",
       "3               4415            [11/13/1996, 1/19/2006]  \n",
       "4               1055             [3/16/2009, 8/18/2014]  \n",
       "5                 47                           [33, 30]  \n",
       "6                 27                            [24, 7]  \n",
       "7                 40                 [Kamloops, Nelson]  \n",
       "8                 21            [Executive, Investment]  \n",
       "9                 47  [Accounting Clerk, Store Manager]  \n",
       "10                46                           [24, 17]  \n",
       "11                 2                             [F, M]  \n",
       "12                 2                     [Male, Female]  \n",
       "13                 4               [Resignaton, Layoff]  \n",
       "14                 3        [Not Applicable, Voluntary]  \n",
       "15                10                       [2011, 2012]  \n",
       "16                 2               [ACTIVE, TERMINATED]  \n",
       "17                 2               [STORES, HEADOFFICE]  "
      ]
     },
     "execution_count": 253,
     "metadata": {},
     "output_type": "execute_result"
    }
   ],
   "source": [
    "desc = []\n",
    "\n",
    "for i in df.columns:\n",
    "    desc.append([\n",
    "        i,\n",
    "        df[i].dtypes,\n",
    "        df[i].isna().sum(),\n",
    "        (df[i].isna().sum()/len(df)*100).round(2),\n",
    "        df[i].nunique(),\n",
    "        df[i].drop_duplicates().sample(2).values\n",
    "    ])\n",
    "    \n",
    "pd.DataFrame(data=desc, columns=['Nama Kolom','Tipe Kolom','Jumlah NaN','Presentase NaN','Jumlah Data Unik','Sampel Data Unik'])"
   ]
  },
  {
   "cell_type": "code",
   "execution_count": 254,
   "metadata": {
    "execution": {
     "iopub.execute_input": "2020-11-09T05:13:45.436582Z",
     "iopub.status.busy": "2020-11-09T05:13:45.436582Z",
     "iopub.status.idle": "2020-11-09T05:13:45.450599Z",
     "shell.execute_reply": "2020-11-09T05:13:45.450599Z",
     "shell.execute_reply.started": "2020-11-09T05:13:45.436582Z"
    }
   },
   "outputs": [
    {
     "name": "stdout",
     "output_type": "stream",
     "text": [
      "Data terdiri dari 49653 baris dan 18 kolom. Tidak ada NULL dalam dataset.\n"
     ]
    }
   ],
   "source": [
    "print(f'Data terdiri dari {df.shape[0]} baris dan {df.shape[1]} kolom. Tidak ada NULL dalam dataset.')"
   ]
  },
  {
   "cell_type": "code",
   "execution_count": 255,
   "metadata": {
    "execution": {
     "iopub.execute_input": "2020-11-09T05:13:45.451562Z",
     "iopub.status.busy": "2020-11-09T05:13:45.451562Z",
     "iopub.status.idle": "2020-11-09T05:13:45.482704Z",
     "shell.execute_reply": "2020-11-09T05:13:45.481705Z",
     "shell.execute_reply.started": "2020-11-09T05:13:45.451562Z"
    }
   },
   "outputs": [
    {
     "name": "stdout",
     "output_type": "stream",
     "text": [
      "Dari dataset tersebut terdapat karyawan berstatus ACTIVE dan TERMINATED\n",
      "Karyawan berstatus ACTIVE, berjumlah 48168 orang\n",
      "Karyawan berstatus TERMINATED, berjumlah 1485 orang\n"
     ]
    }
   ],
   "source": [
    "print(f'Dari dataset tersebut terdapat karyawan berstatus ACTIVE dan TERMINATED')\n",
    "for i in df['STATUS'].unique():\n",
    "    print(f'Karyawan berstatus {i}, berjumlah {df[df.STATUS == i].shape[0]} orang')"
   ]
  },
  {
   "cell_type": "code",
   "execution_count": 256,
   "metadata": {
    "execution": {
     "iopub.execute_input": "2020-11-09T05:13:45.483702Z",
     "iopub.status.busy": "2020-11-09T05:13:45.483702Z",
     "iopub.status.idle": "2020-11-09T05:13:45.528629Z",
     "shell.execute_reply": "2020-11-09T05:13:45.527945Z",
     "shell.execute_reply.started": "2020-11-09T05:13:45.483702Z"
    }
   },
   "outputs": [
    {
     "name": "stdout",
     "output_type": "stream",
     "text": [
      "Karyawan berstatus TERMINATED memiliki tipe resign yang berbeda\n",
      "\n",
      "Karyawan dengan tipe resign Voluntary, berjumlah 1270 orang\n",
      "Karyawan dengan alasan pemberhentian Retirement, berjumlah 885 orang\n",
      "Karyawan dengan alasan pemberhentian Resignaton, berjumlah 385 orang\n",
      "\n",
      "Karyawan dengan tipe resign Involuntary, berjumlah 215 orang\n",
      "Karyawan dengan alasan pemberhentian Layoff, berjumlah 215 orang\n",
      "\n"
     ]
    }
   ],
   "source": [
    "print(f'Karyawan berstatus TERMINATED memiliki tipe resign yang berbeda')\n",
    "print()\n",
    "for i in df[df.STATUS == 'TERMINATED']['termtype_desc'].unique():\n",
    "    print(f'Karyawan dengan tipe resign {i}, berjumlah {df[df.termtype_desc == i].shape[0]} orang')\n",
    "    for j in df[(df.STATUS == 'TERMINATED') & (df.termtype_desc == i)]['termreason_desc'].unique():\n",
    "        print(f'Karyawan dengan alasan pemberhentian {j}, berjumlah {df[df.termreason_desc == j].shape[0]} orang')\n",
    "    print()"
   ]
  },
  {
   "cell_type": "markdown",
   "metadata": {},
   "source": [
    "Dikarenakan ada karyawan yang berhenti tanpa melakukan pengajuan (LayOff) maka data karyawan yang LayOff akan didrop. Karena fokus permasalahan adalah memprediksi karyawan yang akan **mengajukan** resign."
   ]
  },
  {
   "cell_type": "code",
   "execution_count": 257,
   "metadata": {
    "execution": {
     "iopub.execute_input": "2020-11-09T05:13:45.529643Z",
     "iopub.status.busy": "2020-11-09T05:13:45.528629Z",
     "iopub.status.idle": "2020-11-09T05:13:45.560538Z",
     "shell.execute_reply": "2020-11-09T05:13:45.559541Z",
     "shell.execute_reply.started": "2020-11-09T05:13:45.529643Z"
    }
   },
   "outputs": [],
   "source": [
    "df = df[df.termreason_desc != 'Layoff']"
   ]
  },
  {
   "cell_type": "markdown",
   "metadata": {},
   "source": [
    "### Sebaran Umur Karyawan"
   ]
  },
  {
   "cell_type": "code",
   "execution_count": 258,
   "metadata": {
    "execution": {
     "iopub.execute_input": "2020-11-09T05:13:45.563529Z",
     "iopub.status.busy": "2020-11-09T05:13:45.563529Z",
     "iopub.status.idle": "2020-11-09T05:13:45.950508Z",
     "shell.execute_reply": "2020-11-09T05:13:45.950508Z",
     "shell.execute_reply.started": "2020-11-09T05:13:45.563529Z"
    }
   },
   "outputs": [
    {
     "data": {
      "text/plain": [
       "<matplotlib.axes._subplots.AxesSubplot at 0x20bf7a11a30>"
      ]
     },
     "execution_count": 258,
     "metadata": {},
     "output_type": "execute_result"
    },
    {
     "data": {
      "image/png": "[encoded data removed]",
      "text/plain": [
       "<Figure size 1296x360 with 2 Axes>"
      ]
     },
     "metadata": {},
     "output_type": "display_data"
    }
   ],
   "source": [
    "f,axs = plt.subplots(1,2,figsize=(18,5))\n",
    "sns.histplot(x=df['age'],ax=axs[0],element='step')\n",
    "sns.histplot(x=df['length_of_service'],ax=axs[1],element='step')"
   ]
  },
  {
   "cell_type": "code",
   "execution_count": 259,
   "metadata": {
    "execution": {
     "iopub.execute_input": "2020-11-09T05:13:45.952502Z",
     "iopub.status.busy": "2020-11-09T05:13:45.952502Z",
     "iopub.status.idle": "2020-11-09T05:13:46.296250Z",
     "shell.execute_reply": "2020-11-09T05:13:46.296250Z",
     "shell.execute_reply.started": "2020-11-09T05:13:45.952502Z"
    }
   },
   "outputs": [
    {
     "data": {
      "text/plain": [
       "<matplotlib.axes._subplots.AxesSubplot at 0x20bf8578100>"
      ]
     },
     "execution_count": 259,
     "metadata": {},
     "output_type": "execute_result"
    },
    {
     "data": {
      "image/png": "[encoded data removed]",
      "text/plain": [
       "<Figure size 1296x360 with 2 Axes>"
      ]
     },
     "metadata": {},
     "output_type": "display_data"
    }
   ],
   "source": [
    "f,axs = plt.subplots(1,2,figsize=(18,5))\n",
    "sns.boxplot(x=df['age'],ax=axs[0])\n",
    "sns.boxplot(x=df['length_of_service'],ax=axs[1])"
   ]
  },
  {
   "cell_type": "code",
   "execution_count": 260,
   "metadata": {
    "execution": {
     "iopub.execute_input": "2020-11-09T05:13:46.297286Z",
     "iopub.status.busy": "2020-11-09T05:13:46.297286Z",
     "iopub.status.idle": "2020-11-09T05:13:46.312266Z",
     "shell.execute_reply": "2020-11-09T05:13:46.312266Z",
     "shell.execute_reply.started": "2020-11-09T05:13:46.297286Z"
    }
   },
   "outputs": [
    {
     "name": "stdout",
     "output_type": "stream",
     "text": [
      "Rata-rata umur karyawan adalah 42.08 tahun\n",
      "Rata-rata lama bekerja karyawan adalah 10.43 tahun\n"
     ]
    }
   ],
   "source": [
    "print(f'Rata-rata umur karyawan adalah {round(df.age.mean(),2)} tahun')\n",
    "print(f'Rata-rata lama bekerja karyawan adalah {round(df.length_of_service.mean(),2)} tahun')"
   ]
  },
  {
   "cell_type": "markdown",
   "metadata": {},
   "source": [
    "##### Tidak ada outliers pada feature age dan length of service pada data seluruh karyawan"
   ]
  },
  {
   "cell_type": "code",
   "execution_count": 261,
   "metadata": {
    "execution": {
     "iopub.execute_input": "2020-11-09T05:13:46.313243Z",
     "iopub.status.busy": "2020-11-09T05:13:46.313243Z",
     "iopub.status.idle": "2020-11-09T05:13:46.359118Z",
     "shell.execute_reply": "2020-11-09T05:13:46.359118Z",
     "shell.execute_reply.started": "2020-11-09T05:13:46.313243Z"
    }
   },
   "outputs": [
    {
     "data": {
      "text/html": [
       "<div>\n",
       "<style scoped>\n",
       "    .dataframe tbody tr th:only-of-type {\n",
       "        vertical-align: middle;\n",
       "    }\n",
       "\n",
       "    .dataframe tbody tr th {\n",
       "        vertical-align: top;\n",
       "    }\n",
       "\n",
       "    .dataframe thead th {\n",
       "        text-align: right;\n",
       "    }\n",
       "</style>\n",
       "<table border=\"1\" class=\"dataframe\">\n",
       "  <thead>\n",
       "    <tr style=\"text-align: right;\">\n",
       "      <th>STATUS</th>\n",
       "      <th>ACTIVE</th>\n",
       "      <th>TERMINATED</th>\n",
       "    </tr>\n",
       "    <tr>\n",
       "      <th>job_title</th>\n",
       "      <th></th>\n",
       "      <th></th>\n",
       "    </tr>\n",
       "  </thead>\n",
       "  <tbody>\n",
       "    <tr>\n",
       "      <th>Accounting Clerk</th>\n",
       "      <td>45</td>\n",
       "      <td>5</td>\n",
       "    </tr>\n",
       "    <tr>\n",
       "      <th>Accounts Payable Clerk</th>\n",
       "      <td>22</td>\n",
       "      <td>3</td>\n",
       "    </tr>\n",
       "    <tr>\n",
       "      <th>Accounts Receiveable Clerk</th>\n",
       "      <td>26</td>\n",
       "      <td>4</td>\n",
       "    </tr>\n",
       "    <tr>\n",
       "      <th>Auditor</th>\n",
       "      <td>17</td>\n",
       "      <td>3</td>\n",
       "    </tr>\n",
       "    <tr>\n",
       "      <th>Baker</th>\n",
       "      <td>8005</td>\n",
       "      <td>74</td>\n",
       "    </tr>\n",
       "    <tr>\n",
       "      <th>Bakery Manager</th>\n",
       "      <td>264</td>\n",
       "      <td>17</td>\n",
       "    </tr>\n",
       "    <tr>\n",
       "      <th>Benefits Admin</th>\n",
       "      <td>30</td>\n",
       "      <td>5</td>\n",
       "    </tr>\n",
       "    <tr>\n",
       "      <th>CEO</th>\n",
       "      <td>10</td>\n",
       "      <td>0</td>\n",
       "    </tr>\n",
       "    <tr>\n",
       "      <th>CHief Information Officer</th>\n",
       "      <td>10</td>\n",
       "      <td>0</td>\n",
       "    </tr>\n",
       "    <tr>\n",
       "      <th>Cashier</th>\n",
       "      <td>6568</td>\n",
       "      <td>181</td>\n",
       "    </tr>\n",
       "    <tr>\n",
       "      <th>Compensation Analyst</th>\n",
       "      <td>17</td>\n",
       "      <td>3</td>\n",
       "    </tr>\n",
       "    <tr>\n",
       "      <th>Corporate Lawyer</th>\n",
       "      <td>14</td>\n",
       "      <td>3</td>\n",
       "    </tr>\n",
       "    <tr>\n",
       "      <th>Customer Service Manager</th>\n",
       "      <td>292</td>\n",
       "      <td>11</td>\n",
       "    </tr>\n",
       "    <tr>\n",
       "      <th>Dairy Manager</th>\n",
       "      <td>8</td>\n",
       "      <td>1</td>\n",
       "    </tr>\n",
       "    <tr>\n",
       "      <th>Dairy Person</th>\n",
       "      <td>8400</td>\n",
       "      <td>144</td>\n",
       "    </tr>\n",
       "    <tr>\n",
       "      <th>Director, Accounting</th>\n",
       "      <td>8</td>\n",
       "      <td>1</td>\n",
       "    </tr>\n",
       "    <tr>\n",
       "      <th>Director, Accounts Payable</th>\n",
       "      <td>8</td>\n",
       "      <td>1</td>\n",
       "    </tr>\n",
       "    <tr>\n",
       "      <th>Director, Accounts Receivable</th>\n",
       "      <td>8</td>\n",
       "      <td>1</td>\n",
       "    </tr>\n",
       "    <tr>\n",
       "      <th>Director, Audit</th>\n",
       "      <td>3</td>\n",
       "      <td>1</td>\n",
       "    </tr>\n",
       "    <tr>\n",
       "      <th>Director, Compensation</th>\n",
       "      <td>3</td>\n",
       "      <td>1</td>\n",
       "    </tr>\n",
       "    <tr>\n",
       "      <th>Director, Employee Records</th>\n",
       "      <td>8</td>\n",
       "      <td>1</td>\n",
       "    </tr>\n",
       "    <tr>\n",
       "      <th>Director, HR Technology</th>\n",
       "      <td>8</td>\n",
       "      <td>1</td>\n",
       "    </tr>\n",
       "    <tr>\n",
       "      <th>Director, Investments</th>\n",
       "      <td>3</td>\n",
       "      <td>1</td>\n",
       "    </tr>\n",
       "    <tr>\n",
       "      <th>Director, Labor Relations</th>\n",
       "      <td>3</td>\n",
       "      <td>1</td>\n",
       "    </tr>\n",
       "    <tr>\n",
       "      <th>Director, Recruitment</th>\n",
       "      <td>10</td>\n",
       "      <td>0</td>\n",
       "    </tr>\n",
       "    <tr>\n",
       "      <th>Director, Training</th>\n",
       "      <td>3</td>\n",
       "      <td>1</td>\n",
       "    </tr>\n",
       "    <tr>\n",
       "      <th>Exec Assistant, Finance</th>\n",
       "      <td>10</td>\n",
       "      <td>0</td>\n",
       "    </tr>\n",
       "    <tr>\n",
       "      <th>Exec Assistant, Human Resources</th>\n",
       "      <td>10</td>\n",
       "      <td>0</td>\n",
       "    </tr>\n",
       "    <tr>\n",
       "      <th>Exec Assistant, Legal Counsel</th>\n",
       "      <td>10</td>\n",
       "      <td>0</td>\n",
       "    </tr>\n",
       "    <tr>\n",
       "      <th>Exec Assistant, VP Stores</th>\n",
       "      <td>10</td>\n",
       "      <td>0</td>\n",
       "    </tr>\n",
       "    <tr>\n",
       "      <th>HRIS Analyst</th>\n",
       "      <td>47</td>\n",
       "      <td>8</td>\n",
       "    </tr>\n",
       "    <tr>\n",
       "      <th>Investment Analyst</th>\n",
       "      <td>17</td>\n",
       "      <td>3</td>\n",
       "    </tr>\n",
       "    <tr>\n",
       "      <th>Labor Relations Analyst</th>\n",
       "      <td>25</td>\n",
       "      <td>5</td>\n",
       "    </tr>\n",
       "    <tr>\n",
       "      <th>Legal Counsel</th>\n",
       "      <td>10</td>\n",
       "      <td>0</td>\n",
       "    </tr>\n",
       "    <tr>\n",
       "      <th>Meat Cutter</th>\n",
       "      <td>9630</td>\n",
       "      <td>327</td>\n",
       "    </tr>\n",
       "    <tr>\n",
       "      <th>Meats Manager</th>\n",
       "      <td>262</td>\n",
       "      <td>19</td>\n",
       "    </tr>\n",
       "    <tr>\n",
       "      <th>Processed Foods Manager</th>\n",
       "      <td>273</td>\n",
       "      <td>13</td>\n",
       "    </tr>\n",
       "    <tr>\n",
       "      <th>Produce Clerk</th>\n",
       "      <td>7905</td>\n",
       "      <td>316</td>\n",
       "    </tr>\n",
       "    <tr>\n",
       "      <th>Produce Manager</th>\n",
       "      <td>257</td>\n",
       "      <td>17</td>\n",
       "    </tr>\n",
       "    <tr>\n",
       "      <th>Recruiter</th>\n",
       "      <td>54</td>\n",
       "      <td>8</td>\n",
       "    </tr>\n",
       "    <tr>\n",
       "      <th>Shelf Stocker</th>\n",
       "      <td>5548</td>\n",
       "      <td>56</td>\n",
       "    </tr>\n",
       "    <tr>\n",
       "      <th>Store Manager</th>\n",
       "      <td>240</td>\n",
       "      <td>25</td>\n",
       "    </tr>\n",
       "    <tr>\n",
       "      <th>Systems Analyst</th>\n",
       "      <td>15</td>\n",
       "      <td>5</td>\n",
       "    </tr>\n",
       "    <tr>\n",
       "      <th>Trainer</th>\n",
       "      <td>22</td>\n",
       "      <td>4</td>\n",
       "    </tr>\n",
       "    <tr>\n",
       "      <th>VP Finance</th>\n",
       "      <td>10</td>\n",
       "      <td>0</td>\n",
       "    </tr>\n",
       "    <tr>\n",
       "      <th>VP Human Resources</th>\n",
       "      <td>10</td>\n",
       "      <td>0</td>\n",
       "    </tr>\n",
       "    <tr>\n",
       "      <th>VP Stores</th>\n",
       "      <td>10</td>\n",
       "      <td>0</td>\n",
       "    </tr>\n",
       "  </tbody>\n",
       "</table>\n",
       "</div>"
      ],
      "text/plain": [
       "STATUS                           ACTIVE  TERMINATED\n",
       "job_title                                          \n",
       "Accounting Clerk                     45           5\n",
       "Accounts Payable Clerk               22           3\n",
       "Accounts Receiveable Clerk           26           4\n",
       "Auditor                              17           3\n",
       "Baker                              8005          74\n",
       "Bakery Manager                      264          17\n",
       "Benefits Admin                       30           5\n",
       "CEO                                  10           0\n",
       "CHief Information Officer            10           0\n",
       "Cashier                            6568         181\n",
       "Compensation Analyst                 17           3\n",
       "Corporate Lawyer                     14           3\n",
       "Customer Service Manager            292          11\n",
       "Dairy Manager                         8           1\n",
       "Dairy Person                       8400         144\n",
       "Director, Accounting                  8           1\n",
       "Director, Accounts Payable            8           1\n",
       "Director, Accounts Receivable         8           1\n",
       "Director, Audit                       3           1\n",
       "Director, Compensation                3           1\n",
       "Director, Employee Records            8           1\n",
       "Director, HR Technology               8           1\n",
       "Director, Investments                 3           1\n",
       "Director, Labor Relations             3           1\n",
       "Director, Recruitment                10           0\n",
       "Director, Training                    3           1\n",
       "Exec Assistant, Finance              10           0\n",
       "Exec Assistant, Human Resources      10           0\n",
       "Exec Assistant, Legal Counsel        10           0\n",
       "Exec Assistant, VP Stores            10           0\n",
       "HRIS Analyst                         47           8\n",
       "Investment Analyst                   17           3\n",
       "Labor Relations Analyst              25           5\n",
       "Legal Counsel                        10           0\n",
       "Meat Cutter                        9630         327\n",
       "Meats Manager                       262          19\n",
       "Processed Foods Manager             273          13\n",
       "Produce Clerk                      7905         316\n",
       "Produce Manager                     257          17\n",
       "Recruiter                            54           8\n",
       "Shelf Stocker                      5548          56\n",
       "Store Manager                       240          25\n",
       "Systems Analyst                      15           5\n",
       "Trainer                              22           4\n",
       "VP Finance                           10           0\n",
       "VP Human Resources                   10           0\n",
       "VP Stores                            10           0"
      ]
     },
     "execution_count": 261,
     "metadata": {},
     "output_type": "execute_result"
    }
   ],
   "source": [
    "pd.crosstab(df['job_title'],columns=df['STATUS'])"
   ]
  },
  {
   "cell_type": "markdown",
   "metadata": {},
   "source": [
    "Posisi dengan jumlah karyawan ACTIVE dan TERMINATED terbanyak adalah Meat Cutter"
   ]
  },
  {
   "cell_type": "markdown",
   "metadata": {},
   "source": [
    "### Kota Tempat Bekerja"
   ]
  },
  {
   "cell_type": "code",
   "execution_count": 262,
   "metadata": {
    "execution": {
     "iopub.execute_input": "2020-11-09T05:13:46.360115Z",
     "iopub.status.busy": "2020-11-09T05:13:46.360115Z",
     "iopub.status.idle": "2020-11-09T05:13:46.391000Z",
     "shell.execute_reply": "2020-11-09T05:13:46.391000Z",
     "shell.execute_reply.started": "2020-11-09T05:13:46.360115Z"
    }
   },
   "outputs": [
    {
     "data": {
      "text/plain": [
       "city_name         BUSINESS_UNIT\n",
       "Abbotsford        STORES           1\n",
       "Aldergrove        STORES           1\n",
       "Bella Bella       STORES           1\n",
       "Blue River        STORES           1\n",
       "Burnaby           STORES           1\n",
       "Chilliwack        STORES           1\n",
       "Cortes Island     STORES           1\n",
       "Cranbrook         STORES           1\n",
       "Dawson Creek      STORES           1\n",
       "Dease Lake        STORES           1\n",
       "Fort Nelson       STORES           1\n",
       "Fort St John      STORES           1\n",
       "Grand Forks       STORES           1\n",
       "Haney             STORES           1\n",
       "Kamloops          STORES           1\n",
       "Kelowna           STORES           1\n",
       "Langley           STORES           1\n",
       "Nanaimo           STORES           1\n",
       "Nelson            STORES           1\n",
       "New Westminister  STORES           1\n",
       "New Westminster   STORES           1\n",
       "North Vancouver   STORES           1\n",
       "Ocean Falls       STORES           1\n",
       "Pitt Meadows      STORES           1\n",
       "Port Coquitlam    STORES           1\n",
       "Prince George     STORES           1\n",
       "Princeton         STORES           1\n",
       "Quesnel           STORES           1\n",
       "Richmond          STORES           1\n",
       "Squamish          STORES           1\n",
       "Surrey            STORES           1\n",
       "Terrace           STORES           1\n",
       "Trail             STORES           1\n",
       "Valemount         STORES           1\n",
       "Vancouver         HEADOFFICE       1\n",
       "                  STORES           6\n",
       "Vernon            STORES           1\n",
       "Victoria          STORES           2\n",
       "West Vancouver    STORES           1\n",
       "White Rock        STORES           1\n",
       "Williams Lake     STORES           1\n",
       "Name: store_name, dtype: int64"
      ]
     },
     "execution_count": 262,
     "metadata": {},
     "output_type": "execute_result"
    }
   ],
   "source": [
    "df.groupby(['city_name','BUSINESS_UNIT'])['store_name'].nunique()"
   ]
  },
  {
   "cell_type": "code",
   "execution_count": 263,
   "metadata": {
    "execution": {
     "iopub.execute_input": "2020-11-09T05:13:46.392997Z",
     "iopub.status.busy": "2020-11-09T05:13:46.391998Z",
     "iopub.status.idle": "2020-11-09T05:13:46.439873Z",
     "shell.execute_reply": "2020-11-09T05:13:46.438910Z",
     "shell.execute_reply.started": "2020-11-09T05:13:46.392997Z"
    }
   },
   "outputs": [
    {
     "data": {
      "text/html": [
       "<div>\n",
       "<style scoped>\n",
       "    .dataframe tbody tr th:only-of-type {\n",
       "        vertical-align: middle;\n",
       "    }\n",
       "\n",
       "    .dataframe tbody tr th {\n",
       "        vertical-align: top;\n",
       "    }\n",
       "\n",
       "    .dataframe thead th {\n",
       "        text-align: right;\n",
       "    }\n",
       "</style>\n",
       "<table border=\"1\" class=\"dataframe\">\n",
       "  <thead>\n",
       "    <tr style=\"text-align: right;\">\n",
       "      <th>STATUS</th>\n",
       "      <th>ACTIVE</th>\n",
       "      <th>TERMINATED</th>\n",
       "    </tr>\n",
       "    <tr>\n",
       "      <th>city_name</th>\n",
       "      <th></th>\n",
       "      <th></th>\n",
       "    </tr>\n",
       "  </thead>\n",
       "  <tbody>\n",
       "    <tr>\n",
       "      <th>Abbotsford</th>\n",
       "      <td>663</td>\n",
       "      <td>18</td>\n",
       "    </tr>\n",
       "    <tr>\n",
       "      <th>Aldergrove</th>\n",
       "      <td>509</td>\n",
       "      <td>11</td>\n",
       "    </tr>\n",
       "    <tr>\n",
       "      <th>Bella Bella</th>\n",
       "      <td>121</td>\n",
       "      <td>5</td>\n",
       "    </tr>\n",
       "    <tr>\n",
       "      <th>Blue River</th>\n",
       "      <td>8</td>\n",
       "      <td>0</td>\n",
       "    </tr>\n",
       "    <tr>\n",
       "      <th>Burnaby</th>\n",
       "      <td>2033</td>\n",
       "      <td>34</td>\n",
       "    </tr>\n",
       "    <tr>\n",
       "      <th>Chilliwack</th>\n",
       "      <td>1135</td>\n",
       "      <td>32</td>\n",
       "    </tr>\n",
       "    <tr>\n",
       "      <th>Cortes Island</th>\n",
       "      <td>37</td>\n",
       "      <td>2</td>\n",
       "    </tr>\n",
       "    <tr>\n",
       "      <th>Cranbrook</th>\n",
       "      <td>1752</td>\n",
       "      <td>33</td>\n",
       "    </tr>\n",
       "    <tr>\n",
       "      <th>Dawson Creek</th>\n",
       "      <td>111</td>\n",
       "      <td>4</td>\n",
       "    </tr>\n",
       "    <tr>\n",
       "      <th>Dease Lake</th>\n",
       "      <td>16</td>\n",
       "      <td>0</td>\n",
       "    </tr>\n",
       "    <tr>\n",
       "      <th>Fort Nelson</th>\n",
       "      <td>275</td>\n",
       "      <td>8</td>\n",
       "    </tr>\n",
       "    <tr>\n",
       "      <th>Fort St John</th>\n",
       "      <td>593</td>\n",
       "      <td>28</td>\n",
       "    </tr>\n",
       "    <tr>\n",
       "      <th>Grand Forks</th>\n",
       "      <td>203</td>\n",
       "      <td>3</td>\n",
       "    </tr>\n",
       "    <tr>\n",
       "      <th>Haney</th>\n",
       "      <td>158</td>\n",
       "      <td>3</td>\n",
       "    </tr>\n",
       "    <tr>\n",
       "      <th>Kamloops</th>\n",
       "      <td>2000</td>\n",
       "      <td>61</td>\n",
       "    </tr>\n",
       "    <tr>\n",
       "      <th>Kelowna</th>\n",
       "      <td>2454</td>\n",
       "      <td>59</td>\n",
       "    </tr>\n",
       "    <tr>\n",
       "      <th>Langley</th>\n",
       "      <td>874</td>\n",
       "      <td>27</td>\n",
       "    </tr>\n",
       "    <tr>\n",
       "      <th>Nanaimo</th>\n",
       "      <td>3794</td>\n",
       "      <td>82</td>\n",
       "    </tr>\n",
       "    <tr>\n",
       "      <th>Nelson</th>\n",
       "      <td>310</td>\n",
       "      <td>7</td>\n",
       "    </tr>\n",
       "    <tr>\n",
       "      <th>New Westminister</th>\n",
       "      <td>210</td>\n",
       "      <td>13</td>\n",
       "    </tr>\n",
       "    <tr>\n",
       "      <th>New Westminster</th>\n",
       "      <td>3141</td>\n",
       "      <td>70</td>\n",
       "    </tr>\n",
       "    <tr>\n",
       "      <th>North Vancouver</th>\n",
       "      <td>636</td>\n",
       "      <td>12</td>\n",
       "    </tr>\n",
       "    <tr>\n",
       "      <th>Ocean Falls</th>\n",
       "      <td>58</td>\n",
       "      <td>1</td>\n",
       "    </tr>\n",
       "    <tr>\n",
       "      <th>Pitt Meadows</th>\n",
       "      <td>48</td>\n",
       "      <td>3</td>\n",
       "    </tr>\n",
       "    <tr>\n",
       "      <th>Port Coquitlam</th>\n",
       "      <td>530</td>\n",
       "      <td>15</td>\n",
       "    </tr>\n",
       "    <tr>\n",
       "      <th>Prince George</th>\n",
       "      <td>1993</td>\n",
       "      <td>55</td>\n",
       "    </tr>\n",
       "    <tr>\n",
       "      <th>Princeton</th>\n",
       "      <td>117</td>\n",
       "      <td>2</td>\n",
       "    </tr>\n",
       "    <tr>\n",
       "      <th>Quesnel</th>\n",
       "      <td>672</td>\n",
       "      <td>31</td>\n",
       "    </tr>\n",
       "    <tr>\n",
       "      <th>Richmond</th>\n",
       "      <td>1373</td>\n",
       "      <td>28</td>\n",
       "    </tr>\n",
       "    <tr>\n",
       "      <th>Squamish</th>\n",
       "      <td>784</td>\n",
       "      <td>22</td>\n",
       "    </tr>\n",
       "    <tr>\n",
       "      <th>Surrey</th>\n",
       "      <td>1516</td>\n",
       "      <td>44</td>\n",
       "    </tr>\n",
       "    <tr>\n",
       "      <th>Terrace</th>\n",
       "      <td>1187</td>\n",
       "      <td>41</td>\n",
       "    </tr>\n",
       "    <tr>\n",
       "      <th>Trail</th>\n",
       "      <td>899</td>\n",
       "      <td>26</td>\n",
       "    </tr>\n",
       "    <tr>\n",
       "      <th>Valemount</th>\n",
       "      <td>32</td>\n",
       "      <td>0</td>\n",
       "    </tr>\n",
       "    <tr>\n",
       "      <th>Vancouver</th>\n",
       "      <td>10915</td>\n",
       "      <td>290</td>\n",
       "    </tr>\n",
       "    <tr>\n",
       "      <th>Vernon</th>\n",
       "      <td>876</td>\n",
       "      <td>22</td>\n",
       "    </tr>\n",
       "    <tr>\n",
       "      <th>Victoria</th>\n",
       "      <td>4734</td>\n",
       "      <td>142</td>\n",
       "    </tr>\n",
       "    <tr>\n",
       "      <th>West Vancouver</th>\n",
       "      <td>591</td>\n",
       "      <td>22</td>\n",
       "    </tr>\n",
       "    <tr>\n",
       "      <th>White Rock</th>\n",
       "      <td>203</td>\n",
       "      <td>4</td>\n",
       "    </tr>\n",
       "    <tr>\n",
       "      <th>Williams Lake</th>\n",
       "      <td>607</td>\n",
       "      <td>10</td>\n",
       "    </tr>\n",
       "  </tbody>\n",
       "</table>\n",
       "</div>"
      ],
      "text/plain": [
       "STATUS            ACTIVE  TERMINATED\n",
       "city_name                           \n",
       "Abbotsford           663          18\n",
       "Aldergrove           509          11\n",
       "Bella Bella          121           5\n",
       "Blue River             8           0\n",
       "Burnaby             2033          34\n",
       "Chilliwack          1135          32\n",
       "Cortes Island         37           2\n",
       "Cranbrook           1752          33\n",
       "Dawson Creek         111           4\n",
       "Dease Lake            16           0\n",
       "Fort Nelson          275           8\n",
       "Fort St John         593          28\n",
       "Grand Forks          203           3\n",
       "Haney                158           3\n",
       "Kamloops            2000          61\n",
       "Kelowna             2454          59\n",
       "Langley              874          27\n",
       "Nanaimo             3794          82\n",
       "Nelson               310           7\n",
       "New Westminister     210          13\n",
       "New Westminster     3141          70\n",
       "North Vancouver      636          12\n",
       "Ocean Falls           58           1\n",
       "Pitt Meadows          48           3\n",
       "Port Coquitlam       530          15\n",
       "Prince George       1993          55\n",
       "Princeton            117           2\n",
       "Quesnel              672          31\n",
       "Richmond            1373          28\n",
       "Squamish             784          22\n",
       "Surrey              1516          44\n",
       "Terrace             1187          41\n",
       "Trail                899          26\n",
       "Valemount             32           0\n",
       "Vancouver          10915         290\n",
       "Vernon               876          22\n",
       "Victoria            4734         142\n",
       "West Vancouver       591          22\n",
       "White Rock           203           4\n",
       "Williams Lake        607          10"
      ]
     },
     "execution_count": 263,
     "metadata": {},
     "output_type": "execute_result"
    }
   ],
   "source": [
    "pd.crosstab(df['city_name'],columns=df['STATUS'])"
   ]
  },
  {
   "cell_type": "markdown",
   "metadata": {},
   "source": [
    "Vancouver merupakan kota dengan jumlah karyawan terbanyak. Dikarenakan disana terdapat 1 HEADOFFICE dan 6 STORES, sedangkan Victoria hanya memiliki 2 STORES dan kota lainnya 1 STORES. Karyawan yang paling banyak resign juga bekerja di kota Vancouver"
   ]
  },
  {
   "cell_type": "code",
   "execution_count": 312,
   "metadata": {
    "execution": {
     "iopub.execute_input": "2020-11-09T05:36:09.042673Z",
     "iopub.status.busy": "2020-11-09T05:36:09.042673Z",
     "iopub.status.idle": "2020-11-09T05:36:09.070636Z",
     "shell.execute_reply": "2020-11-09T05:36:09.070636Z",
     "shell.execute_reply.started": "2020-11-09T05:36:09.042673Z"
    }
   },
   "outputs": [
    {
     "data": {
      "text/html": [
       "<div>\n",
       "<style scoped>\n",
       "    .dataframe tbody tr th:only-of-type {\n",
       "        vertical-align: middle;\n",
       "    }\n",
       "\n",
       "    .dataframe tbody tr th {\n",
       "        vertical-align: top;\n",
       "    }\n",
       "\n",
       "    .dataframe thead th {\n",
       "        text-align: right;\n",
       "    }\n",
       "</style>\n",
       "<table border=\"1\" class=\"dataframe\">\n",
       "  <thead>\n",
       "    <tr style=\"text-align: right;\">\n",
       "      <th>STATUS</th>\n",
       "      <th>ACTIVE</th>\n",
       "      <th>TERMINATED</th>\n",
       "    </tr>\n",
       "    <tr>\n",
       "      <th>department_name</th>\n",
       "      <th></th>\n",
       "      <th></th>\n",
       "    </tr>\n",
       "  </thead>\n",
       "  <tbody>\n",
       "    <tr>\n",
       "      <th>Accounting</th>\n",
       "      <td>53</td>\n",
       "      <td>6</td>\n",
       "    </tr>\n",
       "    <tr>\n",
       "      <th>Accounts Payable</th>\n",
       "      <td>30</td>\n",
       "      <td>4</td>\n",
       "    </tr>\n",
       "    <tr>\n",
       "      <th>Accounts Receiveable</th>\n",
       "      <td>34</td>\n",
       "      <td>5</td>\n",
       "    </tr>\n",
       "    <tr>\n",
       "      <th>Audit</th>\n",
       "      <td>20</td>\n",
       "      <td>4</td>\n",
       "    </tr>\n",
       "    <tr>\n",
       "      <th>Bakery</th>\n",
       "      <td>8269</td>\n",
       "      <td>91</td>\n",
       "    </tr>\n",
       "    <tr>\n",
       "      <th>Compensation</th>\n",
       "      <td>20</td>\n",
       "      <td>4</td>\n",
       "    </tr>\n",
       "    <tr>\n",
       "      <th>Customer Service</th>\n",
       "      <td>6860</td>\n",
       "      <td>192</td>\n",
       "    </tr>\n",
       "    <tr>\n",
       "      <th>Dairy</th>\n",
       "      <td>8408</td>\n",
       "      <td>145</td>\n",
       "    </tr>\n",
       "    <tr>\n",
       "      <th>Employee Records</th>\n",
       "      <td>38</td>\n",
       "      <td>6</td>\n",
       "    </tr>\n",
       "    <tr>\n",
       "      <th>Executive</th>\n",
       "      <td>100</td>\n",
       "      <td>0</td>\n",
       "    </tr>\n",
       "    <tr>\n",
       "      <th>HR Technology</th>\n",
       "      <td>55</td>\n",
       "      <td>9</td>\n",
       "    </tr>\n",
       "    <tr>\n",
       "      <th>Information Technology</th>\n",
       "      <td>15</td>\n",
       "      <td>5</td>\n",
       "    </tr>\n",
       "    <tr>\n",
       "      <th>Investment</th>\n",
       "      <td>20</td>\n",
       "      <td>4</td>\n",
       "    </tr>\n",
       "    <tr>\n",
       "      <th>Labor Relations</th>\n",
       "      <td>28</td>\n",
       "      <td>6</td>\n",
       "    </tr>\n",
       "    <tr>\n",
       "      <th>Legal</th>\n",
       "      <td>14</td>\n",
       "      <td>3</td>\n",
       "    </tr>\n",
       "    <tr>\n",
       "      <th>Meats</th>\n",
       "      <td>9892</td>\n",
       "      <td>346</td>\n",
       "    </tr>\n",
       "    <tr>\n",
       "      <th>Processed Foods</th>\n",
       "      <td>5821</td>\n",
       "      <td>69</td>\n",
       "    </tr>\n",
       "    <tr>\n",
       "      <th>Produce</th>\n",
       "      <td>8162</td>\n",
       "      <td>333</td>\n",
       "    </tr>\n",
       "    <tr>\n",
       "      <th>Recruitment</th>\n",
       "      <td>64</td>\n",
       "      <td>8</td>\n",
       "    </tr>\n",
       "    <tr>\n",
       "      <th>Store Management</th>\n",
       "      <td>240</td>\n",
       "      <td>25</td>\n",
       "    </tr>\n",
       "    <tr>\n",
       "      <th>Training</th>\n",
       "      <td>25</td>\n",
       "      <td>5</td>\n",
       "    </tr>\n",
       "  </tbody>\n",
       "</table>\n",
       "</div>"
      ],
      "text/plain": [
       "STATUS                  ACTIVE  TERMINATED\n",
       "department_name                           \n",
       "Accounting                  53           6\n",
       "Accounts Payable            30           4\n",
       "Accounts Receiveable        34           5\n",
       "Audit                       20           4\n",
       "Bakery                    8269          91\n",
       "Compensation                20           4\n",
       "Customer Service          6860         192\n",
       "Dairy                     8408         145\n",
       "Employee Records            38           6\n",
       "Executive                  100           0\n",
       "HR Technology               55           9\n",
       "Information Technology      15           5\n",
       "Investment                  20           4\n",
       "Labor Relations             28           6\n",
       "Legal                       14           3\n",
       "Meats                     9892         346\n",
       "Processed Foods           5821          69\n",
       "Produce                   8162         333\n",
       "Recruitment                 64           8\n",
       "Store Management           240          25\n",
       "Training                    25           5"
      ]
     },
     "execution_count": 312,
     "metadata": {},
     "output_type": "execute_result"
    }
   ],
   "source": [
    "pd.crosstab(df.department_name, df.STATUS)"
   ]
  },
  {
   "cell_type": "markdown",
   "metadata": {},
   "source": [
    "Jumlah karyawan paling banyak berada di department Meats. Jumlah karyawan yang berhenti paling banyak berada di department Meats"
   ]
  },
  {
   "cell_type": "markdown",
   "metadata": {},
   "source": [
    "### Gender Karyawan"
   ]
  },
  {
   "cell_type": "code",
   "execution_count": 264,
   "metadata": {
    "execution": {
     "iopub.execute_input": "2020-11-09T05:13:46.440903Z",
     "iopub.status.busy": "2020-11-09T05:13:46.440903Z",
     "iopub.status.idle": "2020-11-09T05:13:46.614523Z",
     "shell.execute_reply": "2020-11-09T05:13:46.614523Z",
     "shell.execute_reply.started": "2020-11-09T05:13:46.440903Z"
    }
   },
   "outputs": [
    {
     "data": {
      "text/plain": [
       "<matplotlib.axes._subplots.AxesSubplot at 0x20bf8cb4d90>"
      ]
     },
     "execution_count": 264,
     "metadata": {},
     "output_type": "execute_result"
    },
    {
     "data": {
      "image/png": "[encoded data removed]",
      "text/plain": [
       "<Figure size 864x288 with 1 Axes>"
      ]
     },
     "metadata": {},
     "output_type": "display_data"
    }
   ],
   "source": [
    "plt.figure(figsize=(12,4))\n",
    "sns.countplot(x=df.STATUS, hue=df.gender_full)"
   ]
  },
  {
   "cell_type": "markdown",
   "metadata": {},
   "source": [
    "Jumlah karyawan ACTIVE dan TERMINATED yang bergender Female lebih banyak dibandingkan dengan karyawan bergender Male"
   ]
  },
  {
   "cell_type": "markdown",
   "metadata": {},
   "source": [
    "## Karyawan Resign"
   ]
  },
  {
   "cell_type": "code",
   "execution_count": 265,
   "metadata": {
    "execution": {
     "iopub.execute_input": "2020-11-09T05:13:46.615477Z",
     "iopub.status.busy": "2020-11-09T05:13:46.615477Z",
     "iopub.status.idle": "2020-11-09T05:13:46.631456Z",
     "shell.execute_reply": "2020-11-09T05:13:46.630463Z",
     "shell.execute_reply.started": "2020-11-09T05:13:46.615477Z"
    }
   },
   "outputs": [],
   "source": [
    "terminated = df[df.STATUS == 'TERMINATED']"
   ]
  },
  {
   "cell_type": "markdown",
   "metadata": {},
   "source": [
    "#### Alasan Resign"
   ]
  },
  {
   "cell_type": "code",
   "execution_count": 266,
   "metadata": {
    "execution": {
     "iopub.execute_input": "2020-11-09T05:13:46.632433Z",
     "iopub.status.busy": "2020-11-09T05:13:46.631456Z",
     "iopub.status.idle": "2020-11-09T05:13:46.773094Z",
     "shell.execute_reply": "2020-11-09T05:13:46.773094Z",
     "shell.execute_reply.started": "2020-11-09T05:13:46.632433Z"
    }
   },
   "outputs": [
    {
     "data": {
      "text/plain": [
       "<matplotlib.axes._subplots.AxesSubplot at 0x20bfa332250>"
      ]
     },
     "execution_count": 266,
     "metadata": {},
     "output_type": "execute_result"
    },
    {
     "data": {
      "image/png": "[encoded data removed]",
      "text/plain": [
       "<Figure size 864x288 with 1 Axes>"
      ]
     },
     "metadata": {},
     "output_type": "display_data"
    }
   ],
   "source": [
    "plt.figure(figsize=(12,4))\n",
    "sns.countplot(x=terminated.termtype_desc, hue=terminated.termreason_desc)"
   ]
  },
  {
   "cell_type": "markdown",
   "metadata": {},
   "source": [
    "Jumlah karyawan yang berhenti dengan alasan Retirement lebih besar dibandingkan dengan alasan Resignation"
   ]
  },
  {
   "cell_type": "markdown",
   "metadata": {},
   "source": [
    "#### Usia Karyawan Yang Sudah Berhenti"
   ]
  },
  {
   "cell_type": "code",
   "execution_count": 267,
   "metadata": {
    "execution": {
     "iopub.execute_input": "2020-11-09T05:13:46.774086Z",
     "iopub.status.busy": "2020-11-09T05:13:46.774086Z",
     "iopub.status.idle": "2020-11-09T05:13:46.791013Z",
     "shell.execute_reply": "2020-11-09T05:13:46.788020Z",
     "shell.execute_reply.started": "2020-11-09T05:13:46.774086Z"
    }
   },
   "outputs": [],
   "source": [
    "retire = terminated[terminated.termreason_desc == 'Retirement']\n",
    "resign = terminated[terminated.termreason_desc != 'Retirement']"
   ]
  },
  {
   "cell_type": "code",
   "execution_count": 268,
   "metadata": {
    "execution": {
     "iopub.execute_input": "2020-11-09T05:13:46.792011Z",
     "iopub.status.busy": "2020-11-09T05:13:46.792011Z",
     "iopub.status.idle": "2020-11-09T05:13:47.120428Z",
     "shell.execute_reply": "2020-11-09T05:13:47.120428Z",
     "shell.execute_reply.started": "2020-11-09T05:13:46.792011Z"
    }
   },
   "outputs": [
    {
     "data": {
      "text/plain": [
       "<matplotlib.axes._subplots.AxesSubplot at 0x20bfa686a30>"
      ]
     },
     "execution_count": 268,
     "metadata": {},
     "output_type": "execute_result"
    },
    {
     "data": {
      "image/png": "[encoded data removed]",
      "text/plain": [
       "<Figure size 1296x360 with 2 Axes>"
      ]
     },
     "metadata": {},
     "output_type": "display_data"
    }
   ],
   "source": [
    "f,axs = plt.subplots(1,2,figsize=(18,5))\n",
    "sns.boxplot(x=retire['age'],ax=axs[0])\n",
    "sns.boxplot(x=retire['length_of_service'],ax=axs[1])"
   ]
  },
  {
   "cell_type": "code",
   "execution_count": 269,
   "metadata": {
    "execution": {
     "iopub.execute_input": "2020-11-09T05:13:47.121424Z",
     "iopub.status.busy": "2020-11-09T05:13:47.121424Z",
     "iopub.status.idle": "2020-11-09T05:13:47.139343Z",
     "shell.execute_reply": "2020-11-09T05:13:47.136358Z",
     "shell.execute_reply.started": "2020-11-09T05:13:47.121424Z"
    }
   },
   "outputs": [
    {
     "name": "stdout",
     "output_type": "stream",
     "text": [
      "Rata-rata umur karyawan yang telah berhenti dengan alasan Retirement adalah 63.34 tahun\n",
      "Rata-rata lama bekerja karyawan yang telah berhenti dengan alasan Retirement adalah 14.15 tahun\n"
     ]
    }
   ],
   "source": [
    "print(f'Rata-rata umur karyawan yang telah berhenti dengan alasan Retirement adalah {round(retire.age.mean(),2)} tahun')\n",
    "print(f'Rata-rata lama bekerja karyawan yang telah berhenti dengan alasan Retirement adalah {round(retire.length_of_service.mean(),2)} tahun')"
   ]
  },
  {
   "cell_type": "markdown",
   "metadata": {},
   "source": [
    "##### Terdapet outliers pada feature lengt_of_service untuk karyawan yang TERMINATED dengan alasan Retirement, namun data outliers tersebut akan tetap digunakan"
   ]
  },
  {
   "cell_type": "code",
   "execution_count": 270,
   "metadata": {
    "execution": {
     "iopub.execute_input": "2020-11-09T05:13:47.140378Z",
     "iopub.status.busy": "2020-11-09T05:13:47.140378Z",
     "iopub.status.idle": "2020-11-09T05:13:47.445769Z",
     "shell.execute_reply": "2020-11-09T05:13:47.445769Z",
     "shell.execute_reply.started": "2020-11-09T05:13:47.140378Z"
    }
   },
   "outputs": [
    {
     "data": {
      "text/plain": [
       "<matplotlib.axes._subplots.AxesSubplot at 0x20bfa730dc0>"
      ]
     },
     "execution_count": 270,
     "metadata": {},
     "output_type": "execute_result"
    },
    {
     "data": {
      "image/png": "[encoded data removed]",
      "text/plain": [
       "<Figure size 1296x360 with 2 Axes>"
      ]
     },
     "metadata": {},
     "output_type": "display_data"
    }
   ],
   "source": [
    "f,axs = plt.subplots(1,2,figsize=(18,5))\n",
    "sns.boxplot(x=resign['age'],ax=axs[0])\n",
    "sns.boxplot(x=resign['length_of_service'],ax=axs[1])"
   ]
  },
  {
   "cell_type": "code",
   "execution_count": 271,
   "metadata": {
    "execution": {
     "iopub.execute_input": "2020-11-09T05:13:47.446804Z",
     "iopub.status.busy": "2020-11-09T05:13:47.446804Z",
     "iopub.status.idle": "2020-11-09T05:13:47.461730Z",
     "shell.execute_reply": "2020-11-09T05:13:47.461730Z",
     "shell.execute_reply.started": "2020-11-09T05:13:47.446804Z"
    }
   },
   "outputs": [
    {
     "name": "stdout",
     "output_type": "stream",
     "text": [
      "Rata-rata umur karyawan yang telah berhenti dengan alasan Resignation adalah 30.1 tahun\n",
      "Rata-rata lama bekerja karyawan yang telah berhenti dengan alasan Resignation adalah 4.64 tahun\n"
     ]
    }
   ],
   "source": [
    "print(f'Rata-rata umur karyawan yang telah berhenti dengan alasan Resignation adalah {round(resign.age.mean(),2)} tahun')\n",
    "print(f'Rata-rata lama bekerja karyawan yang telah berhenti dengan alasan Resignation adalah {round(resign.length_of_service.mean(),2)} tahun')"
   ]
  },
  {
   "cell_type": "markdown",
   "metadata": {},
   "source": [
    "Karyawan yang berhenti karena alasan Retirement cenderung memiliki umur yang lebih tua dan masa kerja yang lebih lama dibandingkan karyawan yang berhenti karena Resignment"
   ]
  },
  {
   "cell_type": "markdown",
   "metadata": {},
   "source": [
    "#### Gender Karyawan Yang Berhenti"
   ]
  },
  {
   "cell_type": "code",
   "execution_count": 272,
   "metadata": {
    "execution": {
     "iopub.execute_input": "2020-11-09T05:13:47.462728Z",
     "iopub.status.busy": "2020-11-09T05:13:47.462728Z",
     "iopub.status.idle": "2020-11-09T05:13:47.615735Z",
     "shell.execute_reply": "2020-11-09T05:13:47.615735Z",
     "shell.execute_reply.started": "2020-11-09T05:13:47.462728Z"
    }
   },
   "outputs": [
    {
     "data": {
      "text/plain": [
       "<matplotlib.axes._subplots.AxesSubplot at 0x20bfb10d250>"
      ]
     },
     "execution_count": 272,
     "metadata": {},
     "output_type": "execute_result"
    },
    {
     "data": {
      "image/png": "[encoded data removed]",
      "text/plain": [
       "<Figure size 864x288 with 1 Axes>"
      ]
     },
     "metadata": {},
     "output_type": "display_data"
    }
   ],
   "source": [
    "plt.figure(figsize=(12,4))\n",
    "sns.countplot(x=terminated.gender_full, hue=terminated.termreason_desc)"
   ]
  },
  {
   "cell_type": "code",
   "execution_count": 273,
   "metadata": {
    "execution": {
     "iopub.execute_input": "2020-11-09T05:13:47.616691Z",
     "iopub.status.busy": "2020-11-09T05:13:47.616691Z",
     "iopub.status.idle": "2020-11-09T05:13:47.648606Z",
     "shell.execute_reply": "2020-11-09T05:13:47.647608Z",
     "shell.execute_reply.started": "2020-11-09T05:13:47.616691Z"
    }
   },
   "outputs": [
    {
     "data": {
      "text/html": [
       "<div>\n",
       "<style scoped>\n",
       "    .dataframe tbody tr th:only-of-type {\n",
       "        vertical-align: middle;\n",
       "    }\n",
       "\n",
       "    .dataframe tbody tr th {\n",
       "        vertical-align: top;\n",
       "    }\n",
       "\n",
       "    .dataframe thead th {\n",
       "        text-align: right;\n",
       "    }\n",
       "</style>\n",
       "<table border=\"1\" class=\"dataframe\">\n",
       "  <thead>\n",
       "    <tr style=\"text-align: right;\">\n",
       "      <th>termreason_desc</th>\n",
       "      <th>Resignaton</th>\n",
       "      <th>Retirement</th>\n",
       "    </tr>\n",
       "    <tr>\n",
       "      <th>gender_full</th>\n",
       "      <th></th>\n",
       "      <th></th>\n",
       "    </tr>\n",
       "  </thead>\n",
       "  <tbody>\n",
       "    <tr>\n",
       "      <th>Female</th>\n",
       "      <td>26.31</td>\n",
       "      <td>73.69</td>\n",
       "    </tr>\n",
       "    <tr>\n",
       "      <th>Male</th>\n",
       "      <td>37.18</td>\n",
       "      <td>62.82</td>\n",
       "    </tr>\n",
       "  </tbody>\n",
       "</table>\n",
       "</div>"
      ],
      "text/plain": [
       "termreason_desc  Resignaton  Retirement\n",
       "gender_full                            \n",
       "Female                26.31       73.69\n",
       "Male                  37.18       62.82"
      ]
     },
     "execution_count": 273,
     "metadata": {},
     "output_type": "execute_result"
    }
   ],
   "source": [
    "(pd.crosstab(terminated['gender_full'],terminated['termreason_desc'],normalize='index')*100).round(2)"
   ]
  },
  {
   "cell_type": "markdown",
   "metadata": {},
   "source": [
    "- Jumlah karyawan bergender Female yang berhenti karena Retirement jauh lebih banyak dibandingkan karyawan bergender Male.\n",
    "- Jumlah karyawan bergender Female yang berhenti karena Resignation lebih banyak dibandingkan karyawan bergender Male namun selisihnya tidak terlalu besar.\n",
    "- Presentase karyawan bergender Female yang berhenti karena Retirement adalah 73% sedangkan Resignation 26%\n",
    "- Presentase karyawan bergender Male yang berhenti karena Retirement adalah 62% sedangkan Resignation 37%\n",
    "- karyawan bergender Male cenderung berhenti dengan karena Resignation dibandingkan karyawan bergender Female"
   ]
  },
  {
   "cell_type": "markdown",
   "metadata": {},
   "source": [
    "#### Lokasi Karyawan Yang Berhenti"
   ]
  },
  {
   "cell_type": "code",
   "execution_count": 274,
   "metadata": {
    "execution": {
     "iopub.execute_input": "2020-11-09T05:13:47.649604Z",
     "iopub.status.busy": "2020-11-09T05:13:47.648606Z",
     "iopub.status.idle": "2020-11-09T05:13:48.149474Z",
     "shell.execute_reply": "2020-11-09T05:13:48.149474Z",
     "shell.execute_reply.started": "2020-11-09T05:13:47.649604Z"
    }
   },
   "outputs": [
    {
     "data": {
      "image/png": "[encoded data removed]",
      "text/plain": [
       "<Figure size 1440x360 with 1 Axes>"
      ]
     },
     "metadata": {},
     "output_type": "display_data"
    }
   ],
   "source": [
    "plt.figure(figsize=(20,5))\n",
    "sns.countplot(x=terminated.city_name, hue=terminated.termreason_desc)\n",
    "plt.xticks(rotation=90)\n",
    "plt.show()"
   ]
  },
  {
   "cell_type": "markdown",
   "metadata": {},
   "source": [
    "Hampir seluruh kota, jumlah karyawan berhenti dikarenakan Resignment lebih banyak dibanginkan dengan Resignation, kecuali di kota North Vancouver"
   ]
  },
  {
   "cell_type": "markdown",
   "metadata": {},
   "source": [
    "#### Pekerjaan Karyawan Yang Berhenti"
   ]
  },
  {
   "cell_type": "code",
   "execution_count": 275,
   "metadata": {
    "execution": {
     "iopub.execute_input": "2020-11-09T05:13:48.150472Z",
     "iopub.status.busy": "2020-11-09T05:13:48.150472Z",
     "iopub.status.idle": "2020-11-09T05:13:48.669086Z",
     "shell.execute_reply": "2020-11-09T05:13:48.668095Z",
     "shell.execute_reply.started": "2020-11-09T05:13:48.150472Z"
    }
   },
   "outputs": [
    {
     "data": {
      "image/png": "[encoded data removed]",
      "text/plain": [
       "<Figure size 1440x360 with 1 Axes>"
      ]
     },
     "metadata": {},
     "output_type": "display_data"
    }
   ],
   "source": [
    "plt.figure(figsize=(20,5))\n",
    "sns.countplot(x=terminated.job_title, hue=terminated.termreason_desc)\n",
    "plt.xticks(rotation=90)\n",
    "plt.show()"
   ]
  },
  {
   "cell_type": "markdown",
   "metadata": {},
   "source": [
    "Pekerjaan Cashier dan Shelf Stocker memiliki jumlah karyawan yang berhenti karena Resignation lebih banyak dibandingkan karena Retirement"
   ]
  },
  {
   "cell_type": "code",
   "execution_count": 293,
   "metadata": {
    "execution": {
     "iopub.execute_input": "2020-11-09T05:26:59.354522Z",
     "iopub.status.busy": "2020-11-09T05:26:59.354522Z",
     "iopub.status.idle": "2020-11-09T05:26:59.380421Z",
     "shell.execute_reply": "2020-11-09T05:26:59.380421Z",
     "shell.execute_reply.started": "2020-11-09T05:26:59.354522Z"
    }
   },
   "outputs": [
    {
     "data": {
      "text/html": [
       "<div>\n",
       "<style scoped>\n",
       "    .dataframe tbody tr th:only-of-type {\n",
       "        vertical-align: middle;\n",
       "    }\n",
       "\n",
       "    .dataframe tbody tr th {\n",
       "        vertical-align: top;\n",
       "    }\n",
       "\n",
       "    .dataframe thead th {\n",
       "        text-align: right;\n",
       "    }\n",
       "</style>\n",
       "<table border=\"1\" class=\"dataframe\">\n",
       "  <thead>\n",
       "    <tr style=\"text-align: right;\">\n",
       "      <th>termreason_desc</th>\n",
       "      <th>Resignaton</th>\n",
       "      <th>Retirement</th>\n",
       "    </tr>\n",
       "    <tr>\n",
       "      <th>BUSINESS_UNIT</th>\n",
       "      <th></th>\n",
       "      <th></th>\n",
       "    </tr>\n",
       "  </thead>\n",
       "  <tbody>\n",
       "    <tr>\n",
       "      <th>HEADOFFICE</th>\n",
       "      <td>1.45</td>\n",
       "      <td>98.55</td>\n",
       "    </tr>\n",
       "    <tr>\n",
       "      <th>STORES</th>\n",
       "      <td>31.97</td>\n",
       "      <td>68.03</td>\n",
       "    </tr>\n",
       "  </tbody>\n",
       "</table>\n",
       "</div>"
      ],
      "text/plain": [
       "termreason_desc  Resignaton  Retirement\n",
       "BUSINESS_UNIT                          \n",
       "HEADOFFICE             1.45       98.55\n",
       "STORES                31.97       68.03"
      ]
     },
     "execution_count": 293,
     "metadata": {},
     "output_type": "execute_result"
    }
   ],
   "source": [
    "(pd.crosstab(terminated.BUSINESS_UNIT, terminated.termreason_desc,normalize='index')*100).round(2)"
   ]
  },
  {
   "cell_type": "markdown",
   "metadata": {},
   "source": [
    "Karyawan yang bekerja di HEADOFFICE cenderung berhenti karena Retirement. Sedangkan di STORES 32% karyawan yang berhenti dikarenakan Resignation"
   ]
  },
  {
   "cell_type": "code",
   "execution_count": 301,
   "metadata": {
    "execution": {
     "iopub.execute_input": "2020-11-09T05:31:46.649286Z",
     "iopub.status.busy": "2020-11-09T05:31:46.648287Z",
     "iopub.status.idle": "2020-11-09T05:31:46.658260Z",
     "shell.execute_reply": "2020-11-09T05:31:46.657262Z",
     "shell.execute_reply.started": "2020-11-09T05:31:46.648287Z"
    }
   },
   "outputs": [
    {
     "data": {
      "text/plain": [
       "array(['Vancouver'], dtype=object)"
      ]
     },
     "execution_count": 301,
     "metadata": {},
     "output_type": "execute_result"
    }
   ],
   "source": [
    "terminated[terminated.BUSINESS_UNIT == 'HEADOFFICE'].city_name.unique()"
   ]
  },
  {
   "cell_type": "code",
   "execution_count": 305,
   "metadata": {
    "execution": {
     "iopub.execute_input": "2020-11-09T05:32:51.730783Z",
     "iopub.status.busy": "2020-11-09T05:32:51.729785Z",
     "iopub.status.idle": "2020-11-09T05:32:52.058453Z",
     "shell.execute_reply": "2020-11-09T05:32:52.057455Z",
     "shell.execute_reply.started": "2020-11-09T05:32:51.730783Z"
    }
   },
   "outputs": [
    {
     "data": {
      "image/png": "[encoded data removed]",
      "text/plain": [
       "<Figure size 1440x360 with 1 Axes>"
      ]
     },
     "metadata": {},
     "output_type": "display_data"
    }
   ],
   "source": [
    "plt.figure(figsize=(20,5))\n",
    "sns.countplot(x=terminated.department_name, hue=terminated.termreason_desc)\n",
    "plt.xticks(rotation=90)\n",
    "plt.show()"
   ]
  },
  {
   "cell_type": "markdown",
   "metadata": {},
   "source": [
    "Jumlah karyawan yang berhenti dengan alasan Retirement paling banyak berada di department Meats. Sedangkan yang berhenti dengan alasan Resignation berada di department Customer Services."
   ]
  },
  {
   "cell_type": "markdown",
   "metadata": {},
   "source": [
    "## Feature Selection dan Engineering"
   ]
  },
  {
   "cell_type": "markdown",
   "metadata": {},
   "source": [
    "Mengeluarkan kolom yang sudah jelas tidak digunakan dalam Machine Learning"
   ]
  },
  {
   "cell_type": "code",
   "execution_count": 369,
   "metadata": {
    "execution": {
     "iopub.execute_input": "2020-11-09T06:35:18.960127Z",
     "iopub.status.busy": "2020-11-09T06:35:18.960127Z",
     "iopub.status.idle": "2020-11-09T06:35:18.978116Z",
     "shell.execute_reply": "2020-11-09T06:35:18.978116Z",
     "shell.execute_reply.started": "2020-11-09T06:35:18.960127Z"
    }
   },
   "outputs": [],
   "source": [
    "data = df.drop(columns=['EmployeeID','recorddate_key','terminationdate_key','birthdate_key','orighiredate_key','gender_short','STATUS_YEAR','termtype_desc','termreason_desc'])"
   ]
  },
  {
   "cell_type": "code",
   "execution_count": 370,
   "metadata": {
    "execution": {
     "iopub.execute_input": "2020-11-09T06:35:19.274686Z",
     "iopub.status.busy": "2020-11-09T06:35:19.274686Z",
     "iopub.status.idle": "2020-11-09T06:35:19.291659Z",
     "shell.execute_reply": "2020-11-09T06:35:19.291659Z",
     "shell.execute_reply.started": "2020-11-09T06:35:19.274686Z"
    }
   },
   "outputs": [
    {
     "data": {
      "text/html": [
       "<div>\n",
       "<style scoped>\n",
       "    .dataframe tbody tr th:only-of-type {\n",
       "        vertical-align: middle;\n",
       "    }\n",
       "\n",
       "    .dataframe tbody tr th {\n",
       "        vertical-align: top;\n",
       "    }\n",
       "\n",
       "    .dataframe thead th {\n",
       "        text-align: right;\n",
       "    }\n",
       "</style>\n",
       "<table border=\"1\" class=\"dataframe\">\n",
       "  <thead>\n",
       "    <tr style=\"text-align: right;\">\n",
       "      <th></th>\n",
       "      <th>age</th>\n",
       "      <th>length_of_service</th>\n",
       "      <th>city_name</th>\n",
       "      <th>department_name</th>\n",
       "      <th>job_title</th>\n",
       "      <th>store_name</th>\n",
       "      <th>gender_full</th>\n",
       "      <th>STATUS</th>\n",
       "      <th>BUSINESS_UNIT</th>\n",
       "    </tr>\n",
       "  </thead>\n",
       "  <tbody>\n",
       "    <tr>\n",
       "      <th>0</th>\n",
       "      <td>52</td>\n",
       "      <td>17</td>\n",
       "      <td>Vancouver</td>\n",
       "      <td>Executive</td>\n",
       "      <td>CEO</td>\n",
       "      <td>35</td>\n",
       "      <td>Male</td>\n",
       "      <td>ACTIVE</td>\n",
       "      <td>HEADOFFICE</td>\n",
       "    </tr>\n",
       "  </tbody>\n",
       "</table>\n",
       "</div>"
      ],
      "text/plain": [
       "   age  length_of_service  city_name department_name job_title  store_name  \\\n",
       "0   52                 17  Vancouver       Executive       CEO          35   \n",
       "\n",
       "  gender_full  STATUS BUSINESS_UNIT  \n",
       "0        Male  ACTIVE    HEADOFFICE  "
      ]
     },
     "execution_count": 370,
     "metadata": {},
     "output_type": "execute_result"
    }
   ],
   "source": [
    "data.head(1)"
   ]
  },
  {
   "cell_type": "code",
   "execution_count": 371,
   "metadata": {
    "execution": {
     "iopub.execute_input": "2020-11-09T06:35:19.558011Z",
     "iopub.status.busy": "2020-11-09T06:35:19.558011Z",
     "iopub.status.idle": "2020-11-09T06:35:19.572970Z",
     "shell.execute_reply": "2020-11-09T06:35:19.572970Z",
     "shell.execute_reply.started": "2020-11-09T06:35:19.558011Z"
    }
   },
   "outputs": [],
   "source": [
    "from dython.nominal import associations"
   ]
  },
  {
   "cell_type": "code",
   "execution_count": 372,
   "metadata": {
    "execution": {
     "iopub.execute_input": "2020-11-09T06:35:19.777854Z",
     "iopub.status.busy": "2020-11-09T06:35:19.777854Z",
     "iopub.status.idle": "2020-11-09T06:35:20.750915Z",
     "shell.execute_reply": "2020-11-09T06:35:20.749953Z",
     "shell.execute_reply.started": "2020-11-09T06:35:19.777854Z"
    }
   },
   "outputs": [
    {
     "data": {
      "image/png": "[encoded data removed]",
      "text/plain": [
       "<Figure size 1440x1440 with 2 Axes>"
      ]
     },
     "metadata": {},
     "output_type": "display_data"
    },
    {
     "data": {
      "text/plain": [
       "{'corr':                         age  length_of_service  city_name  department_name  \\\n",
       " age                1.000000           0.909192   0.082891         0.644468   \n",
       " length_of_service  0.909192           1.000000   0.091736         0.587402   \n",
       " city_name          0.082891           0.091736   1.000000         0.095342   \n",
       " department_name    0.644468           0.587402   0.095342         1.000000   \n",
       " job_title          0.695364           0.646258   0.070706         0.999737   \n",
       " store_name        -0.005394           0.011089   0.994483         0.149892   \n",
       " gender_full        0.093264           0.047308   0.083297         0.089207   \n",
       " STATUS             0.146141           0.021513   0.024970         0.105724   \n",
       " BUSINESS_UNIT      0.145300           0.167098   0.200178         0.999808   \n",
       " \n",
       "                    job_title  store_name  gender_full    STATUS  BUSINESS_UNIT  \n",
       " age                 0.695364   -0.005394     0.093264  0.146141       0.145300  \n",
       " length_of_service   0.646258    0.011089     0.047308  0.021513       0.167098  \n",
       " city_name           0.070706    0.994483     0.083297  0.024970       0.200178  \n",
       " department_name     0.999737    0.149892     0.089207  0.105724       0.999808  \n",
       " job_title           1.000000    0.155333     0.102740  0.110627       0.999545  \n",
       " store_name          0.155333    1.000000     0.002896  0.009844       0.062111  \n",
       " gender_full         0.102740    0.002896     1.000000  0.035322       0.033547  \n",
       " STATUS              0.110627    0.009844     0.035322  1.000000       0.063065  \n",
       " BUSINESS_UNIT       0.999545    0.062111     0.033547  0.063065       1.000000  ,\n",
       " 'ax': <matplotlib.axes._subplots.AxesSubplot at 0x20b8a271d90>}"
      ]
     },
     "execution_count": 372,
     "metadata": {},
     "output_type": "execute_result"
    }
   ],
   "source": [
    "associations(data,figsize=(20,20))"
   ]
  },
  {
   "cell_type": "markdown",
   "metadata": {},
   "source": [
    "Age dan length_of_service memiliki nilai asosiasi yang kuat antar feature. Karena semakin tinggi length_of_service maka nilai age juga akan semakin besar.\n",
    "\n",
    "city_name dan store_name juga memiliki asosiasi yang tinggi, karena masing-masing city_name memiliki store_name yang berbeda"
   ]
  },
  {
   "cell_type": "code",
   "execution_count": 373,
   "metadata": {
    "execution": {
     "iopub.execute_input": "2020-11-09T06:35:20.751945Z",
     "iopub.status.busy": "2020-11-09T06:35:20.750915Z",
     "iopub.status.idle": "2020-11-09T06:35:20.765876Z",
     "shell.execute_reply": "2020-11-09T06:35:20.765876Z",
     "shell.execute_reply.started": "2020-11-09T06:35:20.751945Z"
    }
   },
   "outputs": [],
   "source": [
    "data = data.drop(columns=['age','store_name','city_name'])"
   ]
  },
  {
   "cell_type": "code",
   "execution_count": 374,
   "metadata": {
    "execution": {
     "iopub.execute_input": "2020-11-09T06:35:21.344830Z",
     "iopub.status.busy": "2020-11-09T06:35:21.344830Z",
     "iopub.status.idle": "2020-11-09T06:35:21.358805Z",
     "shell.execute_reply": "2020-11-09T06:35:21.358805Z",
     "shell.execute_reply.started": "2020-11-09T06:35:21.344830Z"
    }
   },
   "outputs": [],
   "source": [
    "from sklearn.utils import resample"
   ]
  },
  {
   "cell_type": "markdown",
   "metadata": {},
   "source": [
    "Data imbalance maka akan dilakukan oversampling"
   ]
  },
  {
   "cell_type": "code",
   "execution_count": 375,
   "metadata": {
    "execution": {
     "iopub.execute_input": "2020-11-09T06:35:34.693871Z",
     "iopub.status.busy": "2020-11-09T06:35:34.692841Z",
     "iopub.status.idle": "2020-11-09T06:35:34.705840Z",
     "shell.execute_reply": "2020-11-09T06:35:34.705840Z",
     "shell.execute_reply.started": "2020-11-09T06:35:34.693871Z"
    }
   },
   "outputs": [],
   "source": [
    "data_active = data[data.STATUS == 'ACTIVE']\n",
    "data_resign = data[data.STATUS != 'ACTIVE']"
   ]
  },
  {
   "cell_type": "code",
   "execution_count": 376,
   "metadata": {
    "execution": {
     "iopub.execute_input": "2020-11-09T06:35:35.178763Z",
     "iopub.status.busy": "2020-11-09T06:35:35.178763Z",
     "iopub.status.idle": "2020-11-09T06:35:35.188737Z",
     "shell.execute_reply": "2020-11-09T06:35:35.188737Z",
     "shell.execute_reply.started": "2020-11-09T06:35:35.178763Z"
    }
   },
   "outputs": [],
   "source": [
    "resign_os = resample(data_resign,replace=True,n_samples=len(data_active),random_state=42)"
   ]
  },
  {
   "cell_type": "code",
   "execution_count": 377,
   "metadata": {
    "execution": {
     "iopub.execute_input": "2020-11-09T06:35:35.734471Z",
     "iopub.status.busy": "2020-11-09T06:35:35.734471Z",
     "iopub.status.idle": "2020-11-09T06:35:35.750479Z",
     "shell.execute_reply": "2020-11-09T06:35:35.750479Z",
     "shell.execute_reply.started": "2020-11-09T06:35:35.734471Z"
    }
   },
   "outputs": [],
   "source": [
    "clean = pd.concat([data_active,resign_os],axis=0)"
   ]
  },
  {
   "cell_type": "code",
   "execution_count": 379,
   "metadata": {
    "execution": {
     "iopub.execute_input": "2020-11-09T06:35:46.423387Z",
     "iopub.status.busy": "2020-11-09T06:35:46.423387Z",
     "iopub.status.idle": "2020-11-09T06:35:46.894374Z",
     "shell.execute_reply": "2020-11-09T06:35:46.894374Z",
     "shell.execute_reply.started": "2020-11-09T06:35:46.423387Z"
    }
   },
   "outputs": [],
   "source": [
    "clean.to_csv('cleanOS.csv',index=False)"
   ]
  },
  {
   "cell_type": "markdown",
   "metadata": {},
   "source": [
    "#### to be continued....."
   ]
  }
 ],
 "metadata": {
  "kernelspec": {
   "display_name": "Python 3",
   "language": "python",
   "name": "python3"
  },
  "language_info": {
   "codemirror_mode": {
    "name": "ipython",
    "version": 3
   },
   "file_extension": ".py",
   "mimetype": "text/x-python",
   "name": "python",
   "nbconvert_exporter": "python",
   "pygments_lexer": "ipython3",
   "version": "3.8.3"
  }
 },
 "nbformat": 4,
 "nbformat_minor": 4
}
